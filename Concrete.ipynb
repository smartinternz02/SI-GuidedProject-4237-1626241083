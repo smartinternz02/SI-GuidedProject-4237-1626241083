{
  "nbformat": 4,
  "nbformat_minor": 0,
  "metadata": {
    "colab": {
      "name": "Concrete.ipynb",
      "provenance": []
    },
    "kernelspec": {
      "name": "python3",
      "display_name": "Python 3"
    },
    "language_info": {
      "name": "python"
    }
  },
  "cells": [
    {
      "cell_type": "code",
      "metadata": {
        "colab": {
          "base_uri": "https://localhost:8080/"
        },
        "id": "n6wqtnm_W-rL",
        "outputId": "f3c01bb8-583c-4aa2-b571-fd0ae84817ee"
      },
      "source": [
        "pip install pyforest\n"
      ],
      "execution_count": 362,
      "outputs": [
        {
          "output_type": "stream",
          "text": [
            "Requirement already satisfied: pyforest in /usr/local/lib/python3.7/dist-packages (1.1.0)\n"
          ],
          "name": "stdout"
        }
      ]
    },
    {
      "cell_type": "code",
      "metadata": {
        "id": "eoo_plGEXPFd"
      },
      "source": [
        "from pyforest import *\n",
        "lazy_imports()\n",
        "import warnings\n",
        "warnings.filterwarnings(\"ignore\")\n",
        "from sklearn.tree import DecisionTreeRegressor"
      ],
      "execution_count": 363,
      "outputs": []
    },
    {
      "cell_type": "code",
      "metadata": {
        "colab": {
          "base_uri": "https://localhost:8080/",
          "height": 203
        },
        "id": "AfX6jIliXTBG",
        "outputId": "9cc9aef2-ca9b-473f-b4cf-3acfc38c372b"
      },
      "source": [
        "df=pd.read_csv('/content/drive/MyDrive/Project Files/Concrete Compressive Strength.csv')\n",
        "df.head()"
      ],
      "execution_count": 364,
      "outputs": [
        {
          "output_type": "display_data",
          "data": {
            "application/javascript": [
              "\n",
              "        if (window._pyforest_update_imports_cell) { window._pyforest_update_imports_cell('from xlrd import open_workbook\\nimport spacy\\nfrom scipy import stats\\nimport torch\\nimport plotly as py\\nfrom sklearn.linear_model import LassoCV\\nimport fbprophet\\nfrom sklearn.ensemble import GradientBoostingRegressor\\nfrom sklearn.model_selection import RandomizedSearchCV\\nfrom openpyxl import load_workbook\\nfrom statsmodels.tsa.arima_model import ARIMA\\nfrom sklearn.linear_model import Lasso\\nfrom sklearn.ensemble import GradientBoostingClassifier\\nimport sklearn\\nfrom sklearn.ensemble import RandomForestRegressor\\nfrom sklearn.feature_extraction.text import CountVectorizer\\nimport tqdm\\nimport textblob\\nimport matplotlib as mpl\\nfrom sklearn.linear_model import Ridge\\nfrom sklearn.model_selection import GridSearchCV\\nimport sys\\nfrom scipy import signal as sg\\nimport lightgbm as lgb\\nfrom sklearn.ensemble import RandomForestClassifier\\nimport statsmodels.api as sm\\nimport tensorflow as tf\\nimport skimage\\nimport altair as alt\\nimport xgboost as xgb\\nimport cv2\\nimport pydot\\nimport statistics\\nimport gensim\\nimport pickle\\nimport re\\nimport pandas as pd\\nimport fastai\\nfrom sklearn.model_selection import cross_val_score\\nimport glob\\nfrom sklearn.linear_model import LogisticRegression\\nfrom sklearn import svm\\nimport os\\nfrom sklearn.preprocessing import LabelEncoder\\nimport matplotlib.pyplot as plt\\nfrom sklearn.model_selection import train_test_split\\nfrom sklearn import metrics\\nfrom sklearn.preprocessing import RobustScaler\\nimport seaborn as sns\\nimport bokeh\\nimport plotly.graph_objs as go\\nfrom sklearn.linear_model import LinearRegression\\nfrom sklearn.preprocessing import MinMaxScaler\\nimport plotly.express as px\\nimport imutils\\nfrom sklearn.linear_model import RidgeCV'); }\n",
              "    "
            ],
            "text/plain": [
              "<IPython.core.display.Javascript object>"
            ]
          },
          "metadata": {
            "tags": []
          }
        },
        {
          "output_type": "execute_result",
          "data": {
            "text/html": [
              "<div>\n",
              "<style scoped>\n",
              "    .dataframe tbody tr th:only-of-type {\n",
              "        vertical-align: middle;\n",
              "    }\n",
              "\n",
              "    .dataframe tbody tr th {\n",
              "        vertical-align: top;\n",
              "    }\n",
              "\n",
              "    .dataframe thead th {\n",
              "        text-align: right;\n",
              "    }\n",
              "</style>\n",
              "<table border=\"1\" class=\"dataframe\">\n",
              "  <thead>\n",
              "    <tr style=\"text-align: right;\">\n",
              "      <th></th>\n",
              "      <th>cement</th>\n",
              "      <th>slag</th>\n",
              "      <th>ash</th>\n",
              "      <th>water</th>\n",
              "      <th>superplastic</th>\n",
              "      <th>coarseagg</th>\n",
              "      <th>fineagg</th>\n",
              "      <th>age</th>\n",
              "      <th>strength</th>\n",
              "    </tr>\n",
              "  </thead>\n",
              "  <tbody>\n",
              "    <tr>\n",
              "      <th>0</th>\n",
              "      <td>540.0</td>\n",
              "      <td>0.0</td>\n",
              "      <td>0.0</td>\n",
              "      <td>162.0</td>\n",
              "      <td>2.5</td>\n",
              "      <td>1040.0</td>\n",
              "      <td>676.0</td>\n",
              "      <td>28</td>\n",
              "      <td>79.986111</td>\n",
              "    </tr>\n",
              "    <tr>\n",
              "      <th>1</th>\n",
              "      <td>540.0</td>\n",
              "      <td>0.0</td>\n",
              "      <td>0.0</td>\n",
              "      <td>162.0</td>\n",
              "      <td>2.5</td>\n",
              "      <td>1055.0</td>\n",
              "      <td>676.0</td>\n",
              "      <td>28</td>\n",
              "      <td>61.887366</td>\n",
              "    </tr>\n",
              "    <tr>\n",
              "      <th>2</th>\n",
              "      <td>332.5</td>\n",
              "      <td>142.5</td>\n",
              "      <td>0.0</td>\n",
              "      <td>228.0</td>\n",
              "      <td>0.0</td>\n",
              "      <td>932.0</td>\n",
              "      <td>594.0</td>\n",
              "      <td>270</td>\n",
              "      <td>40.269535</td>\n",
              "    </tr>\n",
              "    <tr>\n",
              "      <th>3</th>\n",
              "      <td>332.5</td>\n",
              "      <td>142.5</td>\n",
              "      <td>0.0</td>\n",
              "      <td>228.0</td>\n",
              "      <td>0.0</td>\n",
              "      <td>932.0</td>\n",
              "      <td>594.0</td>\n",
              "      <td>365</td>\n",
              "      <td>41.052780</td>\n",
              "    </tr>\n",
              "    <tr>\n",
              "      <th>4</th>\n",
              "      <td>198.6</td>\n",
              "      <td>132.4</td>\n",
              "      <td>0.0</td>\n",
              "      <td>192.0</td>\n",
              "      <td>0.0</td>\n",
              "      <td>978.4</td>\n",
              "      <td>825.5</td>\n",
              "      <td>360</td>\n",
              "      <td>44.296075</td>\n",
              "    </tr>\n",
              "  </tbody>\n",
              "</table>\n",
              "</div>"
            ],
            "text/plain": [
              "   cement   slag  ash  water  superplastic  coarseagg  fineagg  age   strength\n",
              "0   540.0    0.0  0.0  162.0           2.5     1040.0    676.0   28  79.986111\n",
              "1   540.0    0.0  0.0  162.0           2.5     1055.0    676.0   28  61.887366\n",
              "2   332.5  142.5  0.0  228.0           0.0      932.0    594.0  270  40.269535\n",
              "3   332.5  142.5  0.0  228.0           0.0      932.0    594.0  365  41.052780\n",
              "4   198.6  132.4  0.0  192.0           0.0      978.4    825.5  360  44.296075"
            ]
          },
          "metadata": {
            "tags": []
          },
          "execution_count": 364
        }
      ]
    },
    {
      "cell_type": "code",
      "metadata": {
        "id": "sZKp_tzDdi3O"
      },
      "source": [
        "# df=df.rename(columns={'Cement (component 1)(kg in a m^3 mixture)':\"cement\",\n",
        "#                       'Blast Furnace Slag (component 2)(kg in a m^3 mixture)':\"slag\",\n",
        "#                       'Fly Ash (component 3)(kg in a m^3 mixture)':\"ash\",\n",
        "#                       'Water (component 4)(kg in a m^3 mixture)':\"Water\",\n",
        "#                       'Superplasticizer (component 5)(kg in a m^3 mixture)':\"superplastic\",\n",
        "#                       'Coarse Aggregate (component 6)(kg in a m^3 mixture)':\"coarseagg\",\n",
        "#                       'Fine Aggregate (component 7)(kg in a m^3 mixture)':\"fineagg\",\n",
        "#                       'Age (day)':\"age\",\n",
        "#                       'Concrete compressive strength(MPa, megapascals)':\"strength\"})"
      ],
      "execution_count": 365,
      "outputs": []
    },
    {
      "cell_type": "code",
      "metadata": {
        "colab": {
          "base_uri": "https://localhost:8080/"
        },
        "id": "yc-tAcGifVsP",
        "outputId": "c106722f-c4cf-4254-d2a9-66d3d9da8f21"
      },
      "source": [
        "df.dtypes"
      ],
      "execution_count": 366,
      "outputs": [
        {
          "output_type": "execute_result",
          "data": {
            "text/plain": [
              "cement          float64\n",
              "slag            float64\n",
              "ash             float64\n",
              "water           float64\n",
              "superplastic    float64\n",
              "coarseagg       float64\n",
              "fineagg         float64\n",
              "age               int64\n",
              "strength        float64\n",
              "dtype: object"
            ]
          },
          "metadata": {
            "tags": []
          },
          "execution_count": 366
        }
      ]
    },
    {
      "cell_type": "code",
      "metadata": {
        "colab": {
          "base_uri": "https://localhost:8080/"
        },
        "id": "Gi8-hvIPiFFc",
        "outputId": "92db0c2c-6715-4208-a857-52b31879b6aa"
      },
      "source": [
        " df.shape"
      ],
      "execution_count": 367,
      "outputs": [
        {
          "output_type": "execute_result",
          "data": {
            "text/plain": [
              "(1030, 9)"
            ]
          },
          "metadata": {
            "tags": []
          },
          "execution_count": 367
        }
      ]
    },
    {
      "cell_type": "code",
      "metadata": {
        "colab": {
          "base_uri": "https://localhost:8080/"
        },
        "id": "ksP8094ciQQB",
        "outputId": "699956e1-6ee4-40e7-baae-6b0e2e6dbcf1"
      },
      "source": [
        "#checking NUll values\n",
        "df.isnull().sum()"
      ],
      "execution_count": 368,
      "outputs": [
        {
          "output_type": "execute_result",
          "data": {
            "text/plain": [
              "cement          0\n",
              "slag            0\n",
              "ash             0\n",
              "water           0\n",
              "superplastic    0\n",
              "coarseagg       0\n",
              "fineagg         0\n",
              "age             0\n",
              "strength        0\n",
              "dtype: int64"
            ]
          },
          "metadata": {
            "tags": []
          },
          "execution_count": 368
        }
      ]
    },
    {
      "cell_type": "markdown",
      "metadata": {
        "id": "9rbJHSvYikIH"
      },
      "source": [
        "No null values found"
      ]
    },
    {
      "cell_type": "code",
      "metadata": {
        "colab": {
          "base_uri": "https://localhost:8080/",
          "height": 326
        },
        "id": "EIjLqD31idmH",
        "outputId": "f52097d6-57af-4fe8-8004-edf8aceed0ca"
      },
      "source": [
        "df.describe().T"
      ],
      "execution_count": 369,
      "outputs": [
        {
          "output_type": "execute_result",
          "data": {
            "text/html": [
              "<div>\n",
              "<style scoped>\n",
              "    .dataframe tbody tr th:only-of-type {\n",
              "        vertical-align: middle;\n",
              "    }\n",
              "\n",
              "    .dataframe tbody tr th {\n",
              "        vertical-align: top;\n",
              "    }\n",
              "\n",
              "    .dataframe thead th {\n",
              "        text-align: right;\n",
              "    }\n",
              "</style>\n",
              "<table border=\"1\" class=\"dataframe\">\n",
              "  <thead>\n",
              "    <tr style=\"text-align: right;\">\n",
              "      <th></th>\n",
              "      <th>count</th>\n",
              "      <th>mean</th>\n",
              "      <th>std</th>\n",
              "      <th>min</th>\n",
              "      <th>25%</th>\n",
              "      <th>50%</th>\n",
              "      <th>75%</th>\n",
              "      <th>max</th>\n",
              "    </tr>\n",
              "  </thead>\n",
              "  <tbody>\n",
              "    <tr>\n",
              "      <th>cement</th>\n",
              "      <td>1030.0</td>\n",
              "      <td>281.165631</td>\n",
              "      <td>104.507142</td>\n",
              "      <td>102.000000</td>\n",
              "      <td>192.375000</td>\n",
              "      <td>272.900000</td>\n",
              "      <td>350.000000</td>\n",
              "      <td>540.000000</td>\n",
              "    </tr>\n",
              "    <tr>\n",
              "      <th>slag</th>\n",
              "      <td>1030.0</td>\n",
              "      <td>73.895485</td>\n",
              "      <td>86.279104</td>\n",
              "      <td>0.000000</td>\n",
              "      <td>0.000000</td>\n",
              "      <td>22.000000</td>\n",
              "      <td>142.950000</td>\n",
              "      <td>359.400000</td>\n",
              "    </tr>\n",
              "    <tr>\n",
              "      <th>ash</th>\n",
              "      <td>1030.0</td>\n",
              "      <td>54.187136</td>\n",
              "      <td>63.996469</td>\n",
              "      <td>0.000000</td>\n",
              "      <td>0.000000</td>\n",
              "      <td>0.000000</td>\n",
              "      <td>118.270000</td>\n",
              "      <td>200.100000</td>\n",
              "    </tr>\n",
              "    <tr>\n",
              "      <th>water</th>\n",
              "      <td>1030.0</td>\n",
              "      <td>181.566359</td>\n",
              "      <td>21.355567</td>\n",
              "      <td>121.750000</td>\n",
              "      <td>164.900000</td>\n",
              "      <td>185.000000</td>\n",
              "      <td>192.000000</td>\n",
              "      <td>247.000000</td>\n",
              "    </tr>\n",
              "    <tr>\n",
              "      <th>superplastic</th>\n",
              "      <td>1030.0</td>\n",
              "      <td>6.203112</td>\n",
              "      <td>5.973492</td>\n",
              "      <td>0.000000</td>\n",
              "      <td>0.000000</td>\n",
              "      <td>6.350000</td>\n",
              "      <td>10.160000</td>\n",
              "      <td>32.200000</td>\n",
              "    </tr>\n",
              "    <tr>\n",
              "      <th>coarseagg</th>\n",
              "      <td>1030.0</td>\n",
              "      <td>972.918592</td>\n",
              "      <td>77.753818</td>\n",
              "      <td>801.000000</td>\n",
              "      <td>932.000000</td>\n",
              "      <td>968.000000</td>\n",
              "      <td>1029.400000</td>\n",
              "      <td>1145.000000</td>\n",
              "    </tr>\n",
              "    <tr>\n",
              "      <th>fineagg</th>\n",
              "      <td>1030.0</td>\n",
              "      <td>773.578883</td>\n",
              "      <td>80.175427</td>\n",
              "      <td>594.000000</td>\n",
              "      <td>730.950000</td>\n",
              "      <td>779.510000</td>\n",
              "      <td>824.000000</td>\n",
              "      <td>992.600000</td>\n",
              "    </tr>\n",
              "    <tr>\n",
              "      <th>age</th>\n",
              "      <td>1030.0</td>\n",
              "      <td>45.662136</td>\n",
              "      <td>63.169912</td>\n",
              "      <td>1.000000</td>\n",
              "      <td>7.000000</td>\n",
              "      <td>28.000000</td>\n",
              "      <td>56.000000</td>\n",
              "      <td>365.000000</td>\n",
              "    </tr>\n",
              "    <tr>\n",
              "      <th>strength</th>\n",
              "      <td>1030.0</td>\n",
              "      <td>35.817836</td>\n",
              "      <td>16.705679</td>\n",
              "      <td>2.331808</td>\n",
              "      <td>23.707115</td>\n",
              "      <td>34.442774</td>\n",
              "      <td>46.136287</td>\n",
              "      <td>82.599225</td>\n",
              "    </tr>\n",
              "  </tbody>\n",
              "</table>\n",
              "</div>"
            ],
            "text/plain": [
              "               count        mean  ...          75%          max\n",
              "cement        1030.0  281.165631  ...   350.000000   540.000000\n",
              "slag          1030.0   73.895485  ...   142.950000   359.400000\n",
              "ash           1030.0   54.187136  ...   118.270000   200.100000\n",
              "water         1030.0  181.566359  ...   192.000000   247.000000\n",
              "superplastic  1030.0    6.203112  ...    10.160000    32.200000\n",
              "coarseagg     1030.0  972.918592  ...  1029.400000  1145.000000\n",
              "fineagg       1030.0  773.578883  ...   824.000000   992.600000\n",
              "age           1030.0   45.662136  ...    56.000000   365.000000\n",
              "strength      1030.0   35.817836  ...    46.136287    82.599225\n",
              "\n",
              "[9 rows x 8 columns]"
            ]
          },
          "metadata": {
            "tags": []
          },
          "execution_count": 369
        }
      ]
    },
    {
      "cell_type": "markdown",
      "metadata": {
        "id": "KCM2IsQFjCc0"
      },
      "source": [
        "#Data Analysis"
      ]
    },
    {
      "cell_type": "markdown",
      "metadata": {
        "id": "mipollQFjHPL"
      },
      "source": [
        "### cement"
      ]
    },
    {
      "cell_type": "code",
      "metadata": {
        "colab": {
          "base_uri": "https://localhost:8080/"
        },
        "id": "KPo7_sAmirs_",
        "outputId": "7d16d90c-e899-483a-fa5a-94a0f2248ed7"
      },
      "source": [
        "from scipy import stats\n",
        "Q1=df['cement'].quantile(q=0.25)\n",
        "Q3=df['cement'].quantile(q=0.75)\n",
        "print('1st quartile (Q1) is : ',Q1)\n",
        "print('3rt quartile (Q3) is : ',Q3)\n",
        "print('Interquartile range (IQR) is ',stats.iqr(df['cement']))"
      ],
      "execution_count": 370,
      "outputs": [
        {
          "output_type": "stream",
          "text": [
            "1st quartile (Q1) is :  192.375\n",
            "3rt quartile (Q3) is :  350.0\n",
            "Interquartile range (IQR) is  157.625\n"
          ],
          "name": "stdout"
        }
      ]
    },
    {
      "cell_type": "code",
      "metadata": {
        "colab": {
          "base_uri": "https://localhost:8080/"
        },
        "id": "4dRleMFmkRIH",
        "outputId": "d8f82426-d081-4c81-d57c-1ecfd629a309"
      },
      "source": [
        "#finding Outliers from Interquartile range\n",
        "\n",
        "L_outliers = Q1-1.5*(Q3-Q1)\n",
        "O_outliers = Q3+1.5*(Q3-Q1) \n",
        "print('Lower outlier limit in cement: ',L_outliers)\n",
        "print('Upper outlier limit in cement: ',O_outliers)"
      ],
      "execution_count": 371,
      "outputs": [
        {
          "output_type": "stream",
          "text": [
            "Lower outlier limit in cement:  -44.0625\n",
            "Upper outlier limit in cement:  586.4375\n"
          ],
          "name": "stdout"
        }
      ]
    },
    {
      "cell_type": "code",
      "metadata": {
        "colab": {
          "base_uri": "https://localhost:8080/"
        },
        "id": "G-GlBVDqky5k",
        "outputId": "b314ddd1-1f36-483f-a9f3-3e693035499f"
      },
      "source": [
        "# checking presence of outliers with upper and lower limits\n",
        "print('number of outliers in cement upper: ',df[df['cement']>586.4375]['cement'].count())\n",
        "print('number of outliers in cement Lower: ',df[df['cement']<-44.0625]['cement'].count())"
      ],
      "execution_count": 372,
      "outputs": [
        {
          "output_type": "stream",
          "text": [
            "number of outliers in cement upper:  0\n",
            "number of outliers in cement Lower:  0\n"
          ],
          "name": "stdout"
        }
      ]
    },
    {
      "cell_type": "code",
      "metadata": {
        "colab": {
          "base_uri": "https://localhost:8080/",
          "height": 530
        },
        "id": "-Y2grwbF0iPw",
        "outputId": "a6d39b0e-2b24-4d6a-b7e4-2a7c8f6df238"
      },
      "source": [
        "plt.figure(figsize=(10,8))\n",
        "sns.distplot(df['cement']).set_title(\"Cement\")"
      ],
      "execution_count": 373,
      "outputs": [
        {
          "output_type": "display_data",
          "data": {
            "application/javascript": [
              "\n",
              "        if (window._pyforest_update_imports_cell) { window._pyforest_update_imports_cell('from xlrd import open_workbook\\nimport spacy\\nfrom scipy import stats\\nimport torch\\nimport plotly as py\\nfrom sklearn.linear_model import LassoCV\\nimport fbprophet\\nfrom sklearn.ensemble import GradientBoostingRegressor\\nfrom sklearn.model_selection import RandomizedSearchCV\\nfrom openpyxl import load_workbook\\nfrom statsmodels.tsa.arima_model import ARIMA\\nfrom sklearn.linear_model import Lasso\\nfrom sklearn.ensemble import GradientBoostingClassifier\\nimport sklearn\\nfrom sklearn.ensemble import RandomForestRegressor\\nfrom sklearn.feature_extraction.text import CountVectorizer\\nimport tqdm\\nimport textblob\\nimport matplotlib as mpl\\nfrom sklearn.linear_model import Ridge\\nfrom sklearn.model_selection import GridSearchCV\\nimport sys\\nfrom scipy import signal as sg\\nimport lightgbm as lgb\\nfrom sklearn.ensemble import RandomForestClassifier\\nimport statsmodels.api as sm\\nimport tensorflow as tf\\nimport skimage\\nimport altair as alt\\nimport xgboost as xgb\\nimport cv2\\nimport pydot\\nimport statistics\\nimport gensim\\nimport pickle\\nimport re\\nimport pandas as pd\\nimport fastai\\nfrom sklearn.model_selection import cross_val_score\\nimport glob\\nfrom sklearn.linear_model import LogisticRegression\\nfrom sklearn import svm\\nimport os\\nfrom sklearn.preprocessing import LabelEncoder\\nimport matplotlib.pyplot as plt\\nfrom sklearn.model_selection import train_test_split\\nfrom sklearn import metrics\\nfrom sklearn.preprocessing import RobustScaler\\nimport seaborn as sns\\nimport bokeh\\nimport plotly.graph_objs as go\\nfrom sklearn.linear_model import LinearRegression\\nfrom sklearn.preprocessing import MinMaxScaler\\nimport plotly.express as px\\nimport imutils\\nfrom sklearn.linear_model import RidgeCV'); }\n",
              "    "
            ],
            "text/plain": [
              "<IPython.core.display.Javascript object>"
            ]
          },
          "metadata": {
            "tags": []
          }
        },
        {
          "output_type": "display_data",
          "data": {
            "application/javascript": [
              "\n",
              "        if (window._pyforest_update_imports_cell) { window._pyforest_update_imports_cell('from xlrd import open_workbook\\nimport spacy\\nfrom scipy import stats\\nimport torch\\nimport plotly as py\\nfrom sklearn.linear_model import LassoCV\\nimport fbprophet\\nfrom sklearn.ensemble import GradientBoostingRegressor\\nfrom sklearn.model_selection import RandomizedSearchCV\\nfrom openpyxl import load_workbook\\nfrom statsmodels.tsa.arima_model import ARIMA\\nfrom sklearn.linear_model import Lasso\\nfrom sklearn.ensemble import GradientBoostingClassifier\\nimport sklearn\\nfrom sklearn.ensemble import RandomForestRegressor\\nfrom sklearn.feature_extraction.text import CountVectorizer\\nimport tqdm\\nimport textblob\\nimport matplotlib as mpl\\nfrom sklearn.linear_model import Ridge\\nfrom sklearn.model_selection import GridSearchCV\\nimport sys\\nfrom scipy import signal as sg\\nimport lightgbm as lgb\\nfrom sklearn.ensemble import RandomForestClassifier\\nimport statsmodels.api as sm\\nimport tensorflow as tf\\nimport skimage\\nimport altair as alt\\nimport xgboost as xgb\\nimport cv2\\nimport pydot\\nimport statistics\\nimport gensim\\nimport pickle\\nimport re\\nimport pandas as pd\\nimport fastai\\nfrom sklearn.model_selection import cross_val_score\\nimport glob\\nfrom sklearn.linear_model import LogisticRegression\\nfrom sklearn import svm\\nimport os\\nfrom sklearn.preprocessing import LabelEncoder\\nimport matplotlib.pyplot as plt\\nfrom sklearn.model_selection import train_test_split\\nfrom sklearn import metrics\\nfrom sklearn.preprocessing import RobustScaler\\nimport seaborn as sns\\nimport bokeh\\nimport plotly.graph_objs as go\\nfrom sklearn.linear_model import LinearRegression\\nfrom sklearn.preprocessing import MinMaxScaler\\nimport plotly.express as px\\nimport imutils\\nfrom sklearn.linear_model import RidgeCV'); }\n",
              "    "
            ],
            "text/plain": [
              "<IPython.core.display.Javascript object>"
            ]
          },
          "metadata": {
            "tags": []
          }
        },
        {
          "output_type": "execute_result",
          "data": {
            "text/plain": [
              "Text(0.5, 1.0, 'Cement')"
            ]
          },
          "metadata": {
            "tags": []
          },
          "execution_count": 373
        },
        {
          "output_type": "display_data",
          "data": {
            "image/png": "[encoded data removed]",
            "text/plain": [
              "<Figure size 720x576 with 1 Axes>"
            ]
          },
          "metadata": {
            "tags": [],
            "needs_background": "light"
          }
        }
      ]
    },
    {
      "cell_type": "code",
      "metadata": {
        "colab": {
          "base_uri": "https://localhost:8080/",
          "height": 296
        },
        "id": "bDgHnjUKla04",
        "outputId": "3d1580ad-a21a-443f-b583-982ef52d2288"
      },
      "source": [
        "#distribution of cement\n",
        "sns.boxplot(x='cement',data=df,orient='h')\n",
        "\n",
        "#this shows there are no outliers found visually"
      ],
      "execution_count": 374,
      "outputs": [
        {
          "output_type": "display_data",
          "data": {
            "application/javascript": [
              "\n",
              "        if (window._pyforest_update_imports_cell) { window._pyforest_update_imports_cell('from xlrd import open_workbook\\nimport spacy\\nfrom scipy import stats\\nimport torch\\nimport plotly as py\\nfrom sklearn.linear_model import LassoCV\\nimport fbprophet\\nfrom sklearn.ensemble import GradientBoostingRegressor\\nfrom sklearn.model_selection import RandomizedSearchCV\\nfrom openpyxl import load_workbook\\nfrom statsmodels.tsa.arima_model import ARIMA\\nfrom sklearn.linear_model import Lasso\\nfrom sklearn.ensemble import GradientBoostingClassifier\\nimport sklearn\\nfrom sklearn.ensemble import RandomForestRegressor\\nfrom sklearn.feature_extraction.text import CountVectorizer\\nimport tqdm\\nimport textblob\\nimport matplotlib as mpl\\nfrom sklearn.linear_model import Ridge\\nfrom sklearn.model_selection import GridSearchCV\\nimport sys\\nfrom scipy import signal as sg\\nimport lightgbm as lgb\\nfrom sklearn.ensemble import RandomForestClassifier\\nimport statsmodels.api as sm\\nimport tensorflow as tf\\nimport skimage\\nimport altair as alt\\nimport xgboost as xgb\\nimport cv2\\nimport pydot\\nimport statistics\\nimport gensim\\nimport pickle\\nimport re\\nimport pandas as pd\\nimport fastai\\nfrom sklearn.model_selection import cross_val_score\\nimport glob\\nfrom sklearn.linear_model import LogisticRegression\\nfrom sklearn import svm\\nimport os\\nfrom sklearn.preprocessing import LabelEncoder\\nimport matplotlib.pyplot as plt\\nfrom sklearn.model_selection import train_test_split\\nfrom sklearn import metrics\\nfrom sklearn.preprocessing import RobustScaler\\nimport seaborn as sns\\nimport bokeh\\nimport plotly.graph_objs as go\\nfrom sklearn.linear_model import LinearRegression\\nfrom sklearn.preprocessing import MinMaxScaler\\nimport plotly.express as px\\nimport imutils\\nfrom sklearn.linear_model import RidgeCV'); }\n",
              "    "
            ],
            "text/plain": [
              "<IPython.core.display.Javascript object>"
            ]
          },
          "metadata": {
            "tags": []
          }
        },
        {
          "output_type": "execute_result",
          "data": {
            "text/plain": [
              "<matplotlib.axes._subplots.AxesSubplot at 0x7f26f6a017d0>"
            ]
          },
          "metadata": {
            "tags": []
          },
          "execution_count": 374
        },
        {
          "output_type": "display_data",
          "data": {
            "image/png": "[encoded data removed]",
            "text/plain": [
              "<Figure size 432x288 with 1 Axes>"
            ]
          },
          "metadata": {
            "tags": [],
            "needs_background": "light"
          }
        }
      ]
    },
    {
      "cell_type": "markdown",
      "metadata": {
        "id": "9oq3MHOFzuit"
      },
      "source": [
        "### ASH"
      ]
    },
    {
      "cell_type": "code",
      "metadata": {
        "colab": {
          "base_uri": "https://localhost:8080/"
        },
        "id": "czxoGWAJzfzD",
        "outputId": "2b010b4f-2f21-4264-eb26-4c035b6bd609"
      },
      "source": [
        "Q1=df['ash'].quantile(q=0.25)\n",
        "Q3=df['ash'].quantile(q=0.75)\n",
        "print('1st quartile (Q1) is : ',Q1)\n",
        "print('3rt quartile (Q3) is : ',Q3)\n",
        "print('Interquartile range (IQR) is ',stats.iqr(df['ash']))\n",
        "\n",
        "#finding Outliers from Interquartile range\n",
        "\n",
        "L_outliers = Q1-1.5*(Q3-Q1)\n",
        "O_outliers = Q3+1.5*(Q3-Q1) \n",
        "print('Lower outlier limit in  Ash: ',L_outliers)\n",
        "print('Upper outlier limit in Ash: ',O_outliers)"
      ],
      "execution_count": 375,
      "outputs": [
        {
          "output_type": "stream",
          "text": [
            "1st quartile (Q1) is :  0.0\n",
            "3rt quartile (Q3) is :  118.27\n",
            "Interquartile range (IQR) is  118.27\n",
            "Lower outlier limit in  Ash:  -177.405\n",
            "Upper outlier limit in Ash:  295.675\n"
          ],
          "name": "stdout"
        }
      ]
    },
    {
      "cell_type": "code",
      "metadata": {
        "colab": {
          "base_uri": "https://localhost:8080/"
        },
        "id": "XC1AXXSq0IdK",
        "outputId": "18f73d63-ab2c-404e-adf0-58e8f2855f97"
      },
      "source": [
        "# checking presence of outliers with upper and lower limits\n",
        "print('number of outliers in  Ash upper: ',df[df['ash']>295.675]['ash'].count())\n",
        "print('number of outliers in  Ash Lower: ',df[df['ash']<-177.405]['ash'].count())"
      ],
      "execution_count": 376,
      "outputs": [
        {
          "output_type": "stream",
          "text": [
            "number of outliers in  Ash upper:  0\n",
            "number of outliers in  Ash Lower:  0\n"
          ],
          "name": "stdout"
        }
      ]
    },
    {
      "cell_type": "code",
      "metadata": {
        "colab": {
          "base_uri": "https://localhost:8080/",
          "height": 530
        },
        "id": "eitlERXkl0HH",
        "outputId": "31bb0d05-4707-4e75-9875-5901165fadd8"
      },
      "source": [
        "plt.figure(figsize=(10,8))\n",
        "sns.distplot(df['ash']).set_title(\"Ash\")"
      ],
      "execution_count": 377,
      "outputs": [
        {
          "output_type": "display_data",
          "data": {
            "application/javascript": [
              "\n",
              "        if (window._pyforest_update_imports_cell) { window._pyforest_update_imports_cell('from xlrd import open_workbook\\nimport spacy\\nfrom scipy import stats\\nimport torch\\nimport plotly as py\\nfrom sklearn.linear_model import LassoCV\\nimport fbprophet\\nfrom sklearn.ensemble import GradientBoostingRegressor\\nfrom sklearn.model_selection import RandomizedSearchCV\\nfrom openpyxl import load_workbook\\nfrom statsmodels.tsa.arima_model import ARIMA\\nfrom sklearn.linear_model import Lasso\\nfrom sklearn.ensemble import GradientBoostingClassifier\\nimport sklearn\\nfrom sklearn.ensemble import RandomForestRegressor\\nfrom sklearn.feature_extraction.text import CountVectorizer\\nimport tqdm\\nimport textblob\\nimport matplotlib as mpl\\nfrom sklearn.linear_model import Ridge\\nfrom sklearn.model_selection import GridSearchCV\\nimport sys\\nfrom scipy import signal as sg\\nimport lightgbm as lgb\\nfrom sklearn.ensemble import RandomForestClassifier\\nimport statsmodels.api as sm\\nimport tensorflow as tf\\nimport skimage\\nimport altair as alt\\nimport xgboost as xgb\\nimport cv2\\nimport pydot\\nimport statistics\\nimport gensim\\nimport pickle\\nimport re\\nimport pandas as pd\\nimport fastai\\nfrom sklearn.model_selection import cross_val_score\\nimport glob\\nfrom sklearn.linear_model import LogisticRegression\\nfrom sklearn import svm\\nimport os\\nfrom sklearn.preprocessing import LabelEncoder\\nimport matplotlib.pyplot as plt\\nfrom sklearn.model_selection import train_test_split\\nfrom sklearn import metrics\\nfrom sklearn.preprocessing import RobustScaler\\nimport seaborn as sns\\nimport bokeh\\nimport plotly.graph_objs as go\\nfrom sklearn.linear_model import LinearRegression\\nfrom sklearn.preprocessing import MinMaxScaler\\nimport plotly.express as px\\nimport imutils\\nfrom sklearn.linear_model import RidgeCV'); }\n",
              "    "
            ],
            "text/plain": [
              "<IPython.core.display.Javascript object>"
            ]
          },
          "metadata": {
            "tags": []
          }
        },
        {
          "output_type": "display_data",
          "data": {
            "application/javascript": [
              "\n",
              "        if (window._pyforest_update_imports_cell) { window._pyforest_update_imports_cell('from xlrd import open_workbook\\nimport spacy\\nfrom scipy import stats\\nimport torch\\nimport plotly as py\\nfrom sklearn.linear_model import LassoCV\\nimport fbprophet\\nfrom sklearn.ensemble import GradientBoostingRegressor\\nfrom sklearn.model_selection import RandomizedSearchCV\\nfrom openpyxl import load_workbook\\nfrom statsmodels.tsa.arima_model import ARIMA\\nfrom sklearn.linear_model import Lasso\\nfrom sklearn.ensemble import GradientBoostingClassifier\\nimport sklearn\\nfrom sklearn.ensemble import RandomForestRegressor\\nfrom sklearn.feature_extraction.text import CountVectorizer\\nimport tqdm\\nimport textblob\\nimport matplotlib as mpl\\nfrom sklearn.linear_model import Ridge\\nfrom sklearn.model_selection import GridSearchCV\\nimport sys\\nfrom scipy import signal as sg\\nimport lightgbm as lgb\\nfrom sklearn.ensemble import RandomForestClassifier\\nimport statsmodels.api as sm\\nimport tensorflow as tf\\nimport skimage\\nimport altair as alt\\nimport xgboost as xgb\\nimport cv2\\nimport pydot\\nimport statistics\\nimport gensim\\nimport pickle\\nimport re\\nimport pandas as pd\\nimport fastai\\nfrom sklearn.model_selection import cross_val_score\\nimport glob\\nfrom sklearn.linear_model import LogisticRegression\\nfrom sklearn import svm\\nimport os\\nfrom sklearn.preprocessing import LabelEncoder\\nimport matplotlib.pyplot as plt\\nfrom sklearn.model_selection import train_test_split\\nfrom sklearn import metrics\\nfrom sklearn.preprocessing import RobustScaler\\nimport seaborn as sns\\nimport bokeh\\nimport plotly.graph_objs as go\\nfrom sklearn.linear_model import LinearRegression\\nfrom sklearn.preprocessing import MinMaxScaler\\nimport plotly.express as px\\nimport imutils\\nfrom sklearn.linear_model import RidgeCV'); }\n",
              "    "
            ],
            "text/plain": [
              "<IPython.core.display.Javascript object>"
            ]
          },
          "metadata": {
            "tags": []
          }
        },
        {
          "output_type": "execute_result",
          "data": {
            "text/plain": [
              "Text(0.5, 1.0, 'Ash')"
            ]
          },
          "metadata": {
            "tags": []
          },
          "execution_count": 377
        },
        {
          "output_type": "display_data",
          "data": {
            "image/png": "[encoded data removed]",
            "text/plain": [
              "<Figure size 720x576 with 1 Axes>"
            ]
          },
          "metadata": {
            "tags": [],
            "needs_background": "light"
          }
        }
      ]
    },
    {
      "cell_type": "code",
      "metadata": {
        "colab": {
          "base_uri": "https://localhost:8080/",
          "height": 296
        },
        "id": "aWfV-H64mKMb",
        "outputId": "948af004-27b2-42d3-d6a1-dc25b86cf6d1"
      },
      "source": [
        "#distribution of cement\n",
        "sns.boxplot(x='ash',data=df,orient='h')\n",
        "\n",
        "#this shows there are no outliers found visually"
      ],
      "execution_count": 378,
      "outputs": [
        {
          "output_type": "display_data",
          "data": {
            "application/javascript": [
              "\n",
              "        if (window._pyforest_update_imports_cell) { window._pyforest_update_imports_cell('from xlrd import open_workbook\\nimport spacy\\nfrom scipy import stats\\nimport torch\\nimport plotly as py\\nfrom sklearn.linear_model import LassoCV\\nimport fbprophet\\nfrom sklearn.ensemble import GradientBoostingRegressor\\nfrom sklearn.model_selection import RandomizedSearchCV\\nfrom openpyxl import load_workbook\\nfrom statsmodels.tsa.arima_model import ARIMA\\nfrom sklearn.linear_model import Lasso\\nfrom sklearn.ensemble import GradientBoostingClassifier\\nimport sklearn\\nfrom sklearn.ensemble import RandomForestRegressor\\nfrom sklearn.feature_extraction.text import CountVectorizer\\nimport tqdm\\nimport textblob\\nimport matplotlib as mpl\\nfrom sklearn.linear_model import Ridge\\nfrom sklearn.model_selection import GridSearchCV\\nimport sys\\nfrom scipy import signal as sg\\nimport lightgbm as lgb\\nfrom sklearn.ensemble import RandomForestClassifier\\nimport statsmodels.api as sm\\nimport tensorflow as tf\\nimport skimage\\nimport altair as alt\\nimport xgboost as xgb\\nimport cv2\\nimport pydot\\nimport statistics\\nimport gensim\\nimport pickle\\nimport re\\nimport pandas as pd\\nimport fastai\\nfrom sklearn.model_selection import cross_val_score\\nimport glob\\nfrom sklearn.linear_model import LogisticRegression\\nfrom sklearn import svm\\nimport os\\nfrom sklearn.preprocessing import LabelEncoder\\nimport matplotlib.pyplot as plt\\nfrom sklearn.model_selection import train_test_split\\nfrom sklearn import metrics\\nfrom sklearn.preprocessing import RobustScaler\\nimport seaborn as sns\\nimport bokeh\\nimport plotly.graph_objs as go\\nfrom sklearn.linear_model import LinearRegression\\nfrom sklearn.preprocessing import MinMaxScaler\\nimport plotly.express as px\\nimport imutils\\nfrom sklearn.linear_model import RidgeCV'); }\n",
              "    "
            ],
            "text/plain": [
              "<IPython.core.display.Javascript object>"
            ]
          },
          "metadata": {
            "tags": []
          }
        },
        {
          "output_type": "execute_result",
          "data": {
            "text/plain": [
              "<matplotlib.axes._subplots.AxesSubplot at 0x7f26f6865e50>"
            ]
          },
          "metadata": {
            "tags": []
          },
          "execution_count": 378
        },
        {
          "output_type": "display_data",
          "data": {
            "image/png": "[encoded data removed]",
            "text/plain": [
              "<Figure size 432x288 with 1 Axes>"
            ]
          },
          "metadata": {
            "tags": [],
            "needs_background": "light"
          }
        }
      ]
    },
    {
      "cell_type": "markdown",
      "metadata": {
        "id": "zGgynpBW1CcF"
      },
      "source": [
        "### slag"
      ]
    },
    {
      "cell_type": "code",
      "metadata": {
        "colab": {
          "base_uri": "https://localhost:8080/"
        },
        "id": "Qs8-F0aC1Kgn",
        "outputId": "4329470b-0005-4223-f132-c97bd4f674ac"
      },
      "source": [
        "Q1=df['slag'].quantile(q=0.25)\n",
        "Q3=df['slag'].quantile(q=0.75)\n",
        "print('1st quartile (Q1) is : ',Q1)\n",
        "print('3rt quartile (Q3) is : ',Q3)\n",
        "print('Interquartile range (IQR) is ',stats.iqr(df['slag']))\n",
        "\n",
        "#finding Outliers from Interquartile range\n",
        "\n",
        "L_outliers = Q1-1.5*(Q3-Q1)\n",
        "O_outliers = Q3+1.5*(Q3-Q1) \n",
        "print('Lower outlier limit in  slag: ',L_outliers)\n",
        "print('Upper outlier limit in slag: ',O_outliers)"
      ],
      "execution_count": 379,
      "outputs": [
        {
          "output_type": "stream",
          "text": [
            "1st quartile (Q1) is :  0.0\n",
            "3rt quartile (Q3) is :  142.95\n",
            "Interquartile range (IQR) is  142.95\n",
            "Lower outlier limit in  slag:  -214.42499999999998\n",
            "Upper outlier limit in slag:  357.375\n"
          ],
          "name": "stdout"
        }
      ]
    },
    {
      "cell_type": "code",
      "metadata": {
        "colab": {
          "base_uri": "https://localhost:8080/"
        },
        "id": "PNItTJoh1Tjm",
        "outputId": "d2af9596-b58c-4e28-de09-921c1a68be34"
      },
      "source": [
        "# checking presence of outliers with upper and lower limits\n",
        "print('number of outliers in  slag upper: ',df[df['slag']>357.375]['slag'].count())\n",
        "print('number of outliers in  slag Lower: ',df[df['slag']<-214.424999999998]['slag'].count())"
      ],
      "execution_count": 380,
      "outputs": [
        {
          "output_type": "stream",
          "text": [
            "number of outliers in  slag upper:  2\n",
            "number of outliers in  slag Lower:  0\n"
          ],
          "name": "stdout"
        }
      ]
    },
    {
      "cell_type": "code",
      "metadata": {
        "colab": {
          "base_uri": "https://localhost:8080/",
          "height": 530
        },
        "id": "b779eAMU1kPM",
        "outputId": "c4f54f3b-04c4-467d-e670-f9f22bc01143"
      },
      "source": [
        "plt.figure(figsize=(10,8))\n",
        "sns.distplot(df['slag']).set_title(\"Slag\")"
      ],
      "execution_count": 381,
      "outputs": [
        {
          "output_type": "display_data",
          "data": {
            "application/javascript": [
              "\n",
              "        if (window._pyforest_update_imports_cell) { window._pyforest_update_imports_cell('from xlrd import open_workbook\\nimport spacy\\nfrom scipy import stats\\nimport torch\\nimport plotly as py\\nfrom sklearn.linear_model import LassoCV\\nimport fbprophet\\nfrom sklearn.ensemble import GradientBoostingRegressor\\nfrom sklearn.model_selection import RandomizedSearchCV\\nfrom openpyxl import load_workbook\\nfrom statsmodels.tsa.arima_model import ARIMA\\nfrom sklearn.linear_model import Lasso\\nfrom sklearn.ensemble import GradientBoostingClassifier\\nimport sklearn\\nfrom sklearn.ensemble import RandomForestRegressor\\nfrom sklearn.feature_extraction.text import CountVectorizer\\nimport tqdm\\nimport textblob\\nimport matplotlib as mpl\\nfrom sklearn.linear_model import Ridge\\nfrom sklearn.model_selection import GridSearchCV\\nimport sys\\nfrom scipy import signal as sg\\nimport lightgbm as lgb\\nfrom sklearn.ensemble import RandomForestClassifier\\nimport statsmodels.api as sm\\nimport tensorflow as tf\\nimport skimage\\nimport altair as alt\\nimport xgboost as xgb\\nimport cv2\\nimport pydot\\nimport statistics\\nimport gensim\\nimport pickle\\nimport re\\nimport pandas as pd\\nimport fastai\\nfrom sklearn.model_selection import cross_val_score\\nimport glob\\nfrom sklearn.linear_model import LogisticRegression\\nfrom sklearn import svm\\nimport os\\nfrom sklearn.preprocessing import LabelEncoder\\nimport matplotlib.pyplot as plt\\nfrom sklearn.model_selection import train_test_split\\nfrom sklearn import metrics\\nfrom sklearn.preprocessing import RobustScaler\\nimport seaborn as sns\\nimport bokeh\\nimport plotly.graph_objs as go\\nfrom sklearn.linear_model import LinearRegression\\nfrom sklearn.preprocessing import MinMaxScaler\\nimport plotly.express as px\\nimport imutils\\nfrom sklearn.linear_model import RidgeCV'); }\n",
              "    "
            ],
            "text/plain": [
              "<IPython.core.display.Javascript object>"
            ]
          },
          "metadata": {
            "tags": []
          }
        },
        {
          "output_type": "display_data",
          "data": {
            "application/javascript": [
              "\n",
              "        if (window._pyforest_update_imports_cell) { window._pyforest_update_imports_cell('from xlrd import open_workbook\\nimport spacy\\nfrom scipy import stats\\nimport torch\\nimport plotly as py\\nfrom sklearn.linear_model import LassoCV\\nimport fbprophet\\nfrom sklearn.ensemble import GradientBoostingRegressor\\nfrom sklearn.model_selection import RandomizedSearchCV\\nfrom openpyxl import load_workbook\\nfrom statsmodels.tsa.arima_model import ARIMA\\nfrom sklearn.linear_model import Lasso\\nfrom sklearn.ensemble import GradientBoostingClassifier\\nimport sklearn\\nfrom sklearn.ensemble import RandomForestRegressor\\nfrom sklearn.feature_extraction.text import CountVectorizer\\nimport tqdm\\nimport textblob\\nimport matplotlib as mpl\\nfrom sklearn.linear_model import Ridge\\nfrom sklearn.model_selection import GridSearchCV\\nimport sys\\nfrom scipy import signal as sg\\nimport lightgbm as lgb\\nfrom sklearn.ensemble import RandomForestClassifier\\nimport statsmodels.api as sm\\nimport tensorflow as tf\\nimport skimage\\nimport altair as alt\\nimport xgboost as xgb\\nimport cv2\\nimport pydot\\nimport statistics\\nimport gensim\\nimport pickle\\nimport re\\nimport pandas as pd\\nimport fastai\\nfrom sklearn.model_selection import cross_val_score\\nimport glob\\nfrom sklearn.linear_model import LogisticRegression\\nfrom sklearn import svm\\nimport os\\nfrom sklearn.preprocessing import LabelEncoder\\nimport matplotlib.pyplot as plt\\nfrom sklearn.model_selection import train_test_split\\nfrom sklearn import metrics\\nfrom sklearn.preprocessing import RobustScaler\\nimport seaborn as sns\\nimport bokeh\\nimport plotly.graph_objs as go\\nfrom sklearn.linear_model import LinearRegression\\nfrom sklearn.preprocessing import MinMaxScaler\\nimport plotly.express as px\\nimport imutils\\nfrom sklearn.linear_model import RidgeCV'); }\n",
              "    "
            ],
            "text/plain": [
              "<IPython.core.display.Javascript object>"
            ]
          },
          "metadata": {
            "tags": []
          }
        },
        {
          "output_type": "execute_result",
          "data": {
            "text/plain": [
              "Text(0.5, 1.0, 'Slag')"
            ]
          },
          "metadata": {
            "tags": []
          },
          "execution_count": 381
        },
        {
          "output_type": "display_data",
          "data": {
            "image/png": "[encoded data removed]",
            "text/plain": [
              "<Figure size 720x576 with 1 Axes>"
            ]
          },
          "metadata": {
            "tags": [],
            "needs_background": "light"
          }
        }
      ]
    },
    {
      "cell_type": "code",
      "metadata": {
        "colab": {
          "base_uri": "https://localhost:8080/",
          "height": 296
        },
        "id": "UQgkwiv11r2y",
        "outputId": "f739e46f-e062-45ff-ade5-6d22b36c1c0f"
      },
      "source": [
        "#distribution of cement\n",
        "sns.boxplot(x='slag',data=df,orient='h')\n",
        "\n",
        "#this shows there are  outliers found visually"
      ],
      "execution_count": 382,
      "outputs": [
        {
          "output_type": "display_data",
          "data": {
            "application/javascript": [
              "\n",
              "        if (window._pyforest_update_imports_cell) { window._pyforest_update_imports_cell('from xlrd import open_workbook\\nimport spacy\\nfrom scipy import stats\\nimport torch\\nimport plotly as py\\nfrom sklearn.linear_model import LassoCV\\nimport fbprophet\\nfrom sklearn.ensemble import GradientBoostingRegressor\\nfrom sklearn.model_selection import RandomizedSearchCV\\nfrom openpyxl import load_workbook\\nfrom statsmodels.tsa.arima_model import ARIMA\\nfrom sklearn.linear_model import Lasso\\nfrom sklearn.ensemble import GradientBoostingClassifier\\nimport sklearn\\nfrom sklearn.ensemble import RandomForestRegressor\\nfrom sklearn.feature_extraction.text import CountVectorizer\\nimport tqdm\\nimport textblob\\nimport matplotlib as mpl\\nfrom sklearn.linear_model import Ridge\\nfrom sklearn.model_selection import GridSearchCV\\nimport sys\\nfrom scipy import signal as sg\\nimport lightgbm as lgb\\nfrom sklearn.ensemble import RandomForestClassifier\\nimport statsmodels.api as sm\\nimport tensorflow as tf\\nimport skimage\\nimport altair as alt\\nimport xgboost as xgb\\nimport cv2\\nimport pydot\\nimport statistics\\nimport gensim\\nimport pickle\\nimport re\\nimport pandas as pd\\nimport fastai\\nfrom sklearn.model_selection import cross_val_score\\nimport glob\\nfrom sklearn.linear_model import LogisticRegression\\nfrom sklearn import svm\\nimport os\\nfrom sklearn.preprocessing import LabelEncoder\\nimport matplotlib.pyplot as plt\\nfrom sklearn.model_selection import train_test_split\\nfrom sklearn import metrics\\nfrom sklearn.preprocessing import RobustScaler\\nimport seaborn as sns\\nimport bokeh\\nimport plotly.graph_objs as go\\nfrom sklearn.linear_model import LinearRegression\\nfrom sklearn.preprocessing import MinMaxScaler\\nimport plotly.express as px\\nimport imutils\\nfrom sklearn.linear_model import RidgeCV'); }\n",
              "    "
            ],
            "text/plain": [
              "<IPython.core.display.Javascript object>"
            ]
          },
          "metadata": {
            "tags": []
          }
        },
        {
          "output_type": "execute_result",
          "data": {
            "text/plain": [
              "<matplotlib.axes._subplots.AxesSubplot at 0x7f26f684d250>"
            ]
          },
          "metadata": {
            "tags": []
          },
          "execution_count": 382
        },
        {
          "output_type": "display_data",
          "data": {
            "image/png": "[encoded data removed]",
            "text/plain": [
              "<Figure size 432x288 with 1 Axes>"
            ]
          },
          "metadata": {
            "tags": [],
            "needs_background": "light"
          }
        }
      ]
    },
    {
      "cell_type": "code",
      "metadata": {
        "id": "ZIX-C2ft1zL1"
      },
      "source": [
        ""
      ],
      "execution_count": 382,
      "outputs": []
    },
    {
      "cell_type": "markdown",
      "metadata": {
        "id": "XDX3THWC3XxX"
      },
      "source": [
        "### water\n"
      ]
    },
    {
      "cell_type": "code",
      "metadata": {
        "colab": {
          "base_uri": "https://localhost:8080/"
        },
        "id": "6olNP9FA3XxY",
        "outputId": "38a4bff6-c7d5-4754-ddd2-4bfcd022c129"
      },
      "source": [
        "Q1=df['water'].quantile(q=0.25)\n",
        "Q3=df['water'].quantile(q=0.75)\n",
        "print('1st quartile (Q1) is : ',Q1)\n",
        "print('3rt quartile (Q3) is : ',Q3)\n",
        "print('Interquartile range (IQR) is ',stats.iqr(df['water']))\n",
        "\n",
        "#finding Outliers from Interquartile range\n",
        "\n",
        "L_outliers = Q1-1.5*(Q3-Q1)\n",
        "O_outliers = Q3+1.5*(Q3-Q1) \n",
        "print('Lower outlier limit in  water: ',L_outliers)\n",
        "print('Upper outlier limit in water: ',O_outliers)"
      ],
      "execution_count": 383,
      "outputs": [
        {
          "output_type": "stream",
          "text": [
            "1st quartile (Q1) is :  164.9\n",
            "3rt quartile (Q3) is :  192.0\n",
            "Interquartile range (IQR) is  27.099999999999994\n",
            "Lower outlier limit in  water:  124.25000000000001\n",
            "Upper outlier limit in water:  232.64999999999998\n"
          ],
          "name": "stdout"
        }
      ]
    },
    {
      "cell_type": "code",
      "metadata": {
        "colab": {
          "base_uri": "https://localhost:8080/"
        },
        "id": "w3LLFuA_3Xxa",
        "outputId": "9cc05ccf-c9e5-4854-cb2f-95e2f49302f7"
      },
      "source": [
        "# checking presence of outliers with upper and lower limits\n",
        "print('number of outliers in  water upper: ',df[df['water']>232.64999999999998]['water'].count())\n",
        "print('number of outliers in  water Lower: ',df[df['water']<124.25000000000001]['water'].count())"
      ],
      "execution_count": 384,
      "outputs": [
        {
          "output_type": "stream",
          "text": [
            "number of outliers in  water upper:  4\n",
            "number of outliers in  water Lower:  5\n"
          ],
          "name": "stdout"
        }
      ]
    },
    {
      "cell_type": "code",
      "metadata": {
        "colab": {
          "base_uri": "https://localhost:8080/",
          "height": 530
        },
        "id": "-bHocFqK3Xxb",
        "outputId": "a0098c3a-4be7-4f29-dc6c-0b2d4388b510"
      },
      "source": [
        "plt.figure(figsize=(10,8))\n",
        "sns.distplot(df['water']).set_title(\"water\")"
      ],
      "execution_count": 385,
      "outputs": [
        {
          "output_type": "display_data",
          "data": {
            "application/javascript": [
              "\n",
              "        if (window._pyforest_update_imports_cell) { window._pyforest_update_imports_cell('from xlrd import open_workbook\\nimport spacy\\nfrom scipy import stats\\nimport torch\\nimport plotly as py\\nfrom sklearn.linear_model import LassoCV\\nimport fbprophet\\nfrom sklearn.ensemble import GradientBoostingRegressor\\nfrom sklearn.model_selection import RandomizedSearchCV\\nfrom openpyxl import load_workbook\\nfrom statsmodels.tsa.arima_model import ARIMA\\nfrom sklearn.linear_model import Lasso\\nfrom sklearn.ensemble import GradientBoostingClassifier\\nimport sklearn\\nfrom sklearn.ensemble import RandomForestRegressor\\nfrom sklearn.feature_extraction.text import CountVectorizer\\nimport tqdm\\nimport textblob\\nimport matplotlib as mpl\\nfrom sklearn.linear_model import Ridge\\nfrom sklearn.model_selection import GridSearchCV\\nimport sys\\nfrom scipy import signal as sg\\nimport lightgbm as lgb\\nfrom sklearn.ensemble import RandomForestClassifier\\nimport statsmodels.api as sm\\nimport tensorflow as tf\\nimport skimage\\nimport altair as alt\\nimport xgboost as xgb\\nimport cv2\\nimport pydot\\nimport statistics\\nimport gensim\\nimport pickle\\nimport re\\nimport pandas as pd\\nimport fastai\\nfrom sklearn.model_selection import cross_val_score\\nimport glob\\nfrom sklearn.linear_model import LogisticRegression\\nfrom sklearn import svm\\nimport os\\nfrom sklearn.preprocessing import LabelEncoder\\nimport matplotlib.pyplot as plt\\nfrom sklearn.model_selection import train_test_split\\nfrom sklearn import metrics\\nfrom sklearn.preprocessing import RobustScaler\\nimport seaborn as sns\\nimport bokeh\\nimport plotly.graph_objs as go\\nfrom sklearn.linear_model import LinearRegression\\nfrom sklearn.preprocessing import MinMaxScaler\\nimport plotly.express as px\\nimport imutils\\nfrom sklearn.linear_model import RidgeCV'); }\n",
              "    "
            ],
            "text/plain": [
              "<IPython.core.display.Javascript object>"
            ]
          },
          "metadata": {
            "tags": []
          }
        },
        {
          "output_type": "display_data",
          "data": {
            "application/javascript": [
              "\n",
              "        if (window._pyforest_update_imports_cell) { window._pyforest_update_imports_cell('from xlrd import open_workbook\\nimport spacy\\nfrom scipy import stats\\nimport torch\\nimport plotly as py\\nfrom sklearn.linear_model import LassoCV\\nimport fbprophet\\nfrom sklearn.ensemble import GradientBoostingRegressor\\nfrom sklearn.model_selection import RandomizedSearchCV\\nfrom openpyxl import load_workbook\\nfrom statsmodels.tsa.arima_model import ARIMA\\nfrom sklearn.linear_model import Lasso\\nfrom sklearn.ensemble import GradientBoostingClassifier\\nimport sklearn\\nfrom sklearn.ensemble import RandomForestRegressor\\nfrom sklearn.feature_extraction.text import CountVectorizer\\nimport tqdm\\nimport textblob\\nimport matplotlib as mpl\\nfrom sklearn.linear_model import Ridge\\nfrom sklearn.model_selection import GridSearchCV\\nimport sys\\nfrom scipy import signal as sg\\nimport lightgbm as lgb\\nfrom sklearn.ensemble import RandomForestClassifier\\nimport statsmodels.api as sm\\nimport tensorflow as tf\\nimport skimage\\nimport altair as alt\\nimport xgboost as xgb\\nimport cv2\\nimport pydot\\nimport statistics\\nimport gensim\\nimport pickle\\nimport re\\nimport pandas as pd\\nimport fastai\\nfrom sklearn.model_selection import cross_val_score\\nimport glob\\nfrom sklearn.linear_model import LogisticRegression\\nfrom sklearn import svm\\nimport os\\nfrom sklearn.preprocessing import LabelEncoder\\nimport matplotlib.pyplot as plt\\nfrom sklearn.model_selection import train_test_split\\nfrom sklearn import metrics\\nfrom sklearn.preprocessing import RobustScaler\\nimport seaborn as sns\\nimport bokeh\\nimport plotly.graph_objs as go\\nfrom sklearn.linear_model import LinearRegression\\nfrom sklearn.preprocessing import MinMaxScaler\\nimport plotly.express as px\\nimport imutils\\nfrom sklearn.linear_model import RidgeCV'); }\n",
              "    "
            ],
            "text/plain": [
              "<IPython.core.display.Javascript object>"
            ]
          },
          "metadata": {
            "tags": []
          }
        },
        {
          "output_type": "execute_result",
          "data": {
            "text/plain": [
              "Text(0.5, 1.0, 'water')"
            ]
          },
          "metadata": {
            "tags": []
          },
          "execution_count": 385
        },
        {
          "output_type": "display_data",
          "data": {
            "image/png": "[encoded data removed]",
            "text/plain": [
              "<Figure size 720x576 with 1 Axes>"
            ]
          },
          "metadata": {
            "tags": [],
            "needs_background": "light"
          }
        }
      ]
    },
    {
      "cell_type": "code",
      "metadata": {
        "colab": {
          "base_uri": "https://localhost:8080/",
          "height": 296
        },
        "id": "fpTg5E2Z3Xxb",
        "outputId": "d2cd0cbb-6fb8-4fcf-f84e-9d2b2ad07a38"
      },
      "source": [
        "#distribution of cement\n",
        "sns.boxplot(x='water',data=df,orient='h')\n",
        "\n",
        "#this shows there are  outliers found visually"
      ],
      "execution_count": 386,
      "outputs": [
        {
          "output_type": "display_data",
          "data": {
            "application/javascript": [
              "\n",
              "        if (window._pyforest_update_imports_cell) { window._pyforest_update_imports_cell('from xlrd import open_workbook\\nimport spacy\\nfrom scipy import stats\\nimport torch\\nimport plotly as py\\nfrom sklearn.linear_model import LassoCV\\nimport fbprophet\\nfrom sklearn.ensemble import GradientBoostingRegressor\\nfrom sklearn.model_selection import RandomizedSearchCV\\nfrom openpyxl import load_workbook\\nfrom statsmodels.tsa.arima_model import ARIMA\\nfrom sklearn.linear_model import Lasso\\nfrom sklearn.ensemble import GradientBoostingClassifier\\nimport sklearn\\nfrom sklearn.ensemble import RandomForestRegressor\\nfrom sklearn.feature_extraction.text import CountVectorizer\\nimport tqdm\\nimport textblob\\nimport matplotlib as mpl\\nfrom sklearn.linear_model import Ridge\\nfrom sklearn.model_selection import GridSearchCV\\nimport sys\\nfrom scipy import signal as sg\\nimport lightgbm as lgb\\nfrom sklearn.ensemble import RandomForestClassifier\\nimport statsmodels.api as sm\\nimport tensorflow as tf\\nimport skimage\\nimport altair as alt\\nimport xgboost as xgb\\nimport cv2\\nimport pydot\\nimport statistics\\nimport gensim\\nimport pickle\\nimport re\\nimport pandas as pd\\nimport fastai\\nfrom sklearn.model_selection import cross_val_score\\nimport glob\\nfrom sklearn.linear_model import LogisticRegression\\nfrom sklearn import svm\\nimport os\\nfrom sklearn.preprocessing import LabelEncoder\\nimport matplotlib.pyplot as plt\\nfrom sklearn.model_selection import train_test_split\\nfrom sklearn import metrics\\nfrom sklearn.preprocessing import RobustScaler\\nimport seaborn as sns\\nimport bokeh\\nimport plotly.graph_objs as go\\nfrom sklearn.linear_model import LinearRegression\\nfrom sklearn.preprocessing import MinMaxScaler\\nimport plotly.express as px\\nimport imutils\\nfrom sklearn.linear_model import RidgeCV'); }\n",
              "    "
            ],
            "text/plain": [
              "<IPython.core.display.Javascript object>"
            ]
          },
          "metadata": {
            "tags": []
          }
        },
        {
          "output_type": "execute_result",
          "data": {
            "text/plain": [
              "<matplotlib.axes._subplots.AxesSubplot at 0x7f26f662b750>"
            ]
          },
          "metadata": {
            "tags": []
          },
          "execution_count": 386
        },
        {
          "output_type": "display_data",
          "data": {
            "image/png": "[encoded data removed]",
            "text/plain": [
              "<Figure size 432x288 with 1 Axes>"
            ]
          },
          "metadata": {
            "tags": [],
            "needs_background": "light"
          }
        }
      ]
    },
    {
      "cell_type": "code",
      "metadata": {
        "id": "zZDzKFTj3Xxc"
      },
      "source": [
        ""
      ],
      "execution_count": 386,
      "outputs": []
    },
    {
      "cell_type": "markdown",
      "metadata": {
        "id": "zywrGp1g4Ag7"
      },
      "source": [
        "### superplastic\n"
      ]
    },
    {
      "cell_type": "code",
      "metadata": {
        "colab": {
          "base_uri": "https://localhost:8080/"
        },
        "id": "VW_qPC5r4AhK",
        "outputId": "c28f1371-4ba8-41c1-9b9f-d2cba1f75977"
      },
      "source": [
        "Q1=df['superplastic'].quantile(q=0.25)\n",
        "Q3=df['superplastic'].quantile(q=0.75)\n",
        "print('1st quartile (Q1) is : ',Q1)\n",
        "print('3rt quartile (Q3) is : ',Q3)\n",
        "print('Interquartile range (IQR) is ',stats.iqr(df['superplastic']))\n",
        "\n",
        "#finding Outliers from Interquartile range\n",
        "\n",
        "L_outliers = Q1-1.5*(Q3-Q1)\n",
        "O_outliers = Q3+1.5*(Q3-Q1) \n",
        "print('Lower outlier limit in superplastic: ',L_outliers)\n",
        "print('Upper outlier limit in superplastic: ',O_outliers)"
      ],
      "execution_count": 387,
      "outputs": [
        {
          "output_type": "stream",
          "text": [
            "1st quartile (Q1) is :  0.0\n",
            "3rt quartile (Q3) is :  10.16\n",
            "Interquartile range (IQR) is  10.16\n",
            "Lower outlier limit in superplastic:  -15.24\n",
            "Upper outlier limit in superplastic:  25.4\n"
          ],
          "name": "stdout"
        }
      ]
    },
    {
      "cell_type": "code",
      "metadata": {
        "colab": {
          "base_uri": "https://localhost:8080/"
        },
        "id": "XR0KC3e04AhK",
        "outputId": "bb6ae485-a020-48dc-edb5-6a60ce9b4f63"
      },
      "source": [
        "# checking presence of outliers with upper and lower limits\n",
        "print('number of outliers in  superplastic upper: ',df[df['superplastic']>24.4]['superplastic'].count())\n",
        "print('number of outliers in  superplastic Lower: ',df[df['superplastic']<-15.24]['superplastic'].count())"
      ],
      "execution_count": 388,
      "outputs": [
        {
          "output_type": "stream",
          "text": [
            "number of outliers in  superplastic upper:  10\n",
            "number of outliers in  superplastic Lower:  0\n"
          ],
          "name": "stdout"
        }
      ]
    },
    {
      "cell_type": "code",
      "metadata": {
        "colab": {
          "base_uri": "https://localhost:8080/",
          "height": 530
        },
        "id": "aCz7xr5A4AhK",
        "outputId": "f95429e3-cc2e-4b3d-80e5-70d7fa468b98"
      },
      "source": [
        "plt.figure(figsize=(10,8))\n",
        "sns.distplot(df['superplastic']).set_title(\"Superplastic\")"
      ],
      "execution_count": 389,
      "outputs": [
        {
          "output_type": "display_data",
          "data": {
            "application/javascript": [
              "\n",
              "        if (window._pyforest_update_imports_cell) { window._pyforest_update_imports_cell('from xlrd import open_workbook\\nimport spacy\\nfrom scipy import stats\\nimport torch\\nimport plotly as py\\nfrom sklearn.linear_model import LassoCV\\nimport fbprophet\\nfrom sklearn.ensemble import GradientBoostingRegressor\\nfrom sklearn.model_selection import RandomizedSearchCV\\nfrom openpyxl import load_workbook\\nfrom statsmodels.tsa.arima_model import ARIMA\\nfrom sklearn.linear_model import Lasso\\nfrom sklearn.ensemble import GradientBoostingClassifier\\nimport sklearn\\nfrom sklearn.ensemble import RandomForestRegressor\\nfrom sklearn.feature_extraction.text import CountVectorizer\\nimport tqdm\\nimport textblob\\nimport matplotlib as mpl\\nfrom sklearn.linear_model import Ridge\\nfrom sklearn.model_selection import GridSearchCV\\nimport sys\\nfrom scipy import signal as sg\\nimport lightgbm as lgb\\nfrom sklearn.ensemble import RandomForestClassifier\\nimport statsmodels.api as sm\\nimport tensorflow as tf\\nimport skimage\\nimport altair as alt\\nimport xgboost as xgb\\nimport cv2\\nimport pydot\\nimport statistics\\nimport gensim\\nimport pickle\\nimport re\\nimport pandas as pd\\nimport fastai\\nfrom sklearn.model_selection import cross_val_score\\nimport glob\\nfrom sklearn.linear_model import LogisticRegression\\nfrom sklearn import svm\\nimport os\\nfrom sklearn.preprocessing import LabelEncoder\\nimport matplotlib.pyplot as plt\\nfrom sklearn.model_selection import train_test_split\\nfrom sklearn import metrics\\nfrom sklearn.preprocessing import RobustScaler\\nimport seaborn as sns\\nimport bokeh\\nimport plotly.graph_objs as go\\nfrom sklearn.linear_model import LinearRegression\\nfrom sklearn.preprocessing import MinMaxScaler\\nimport plotly.express as px\\nimport imutils\\nfrom sklearn.linear_model import RidgeCV'); }\n",
              "    "
            ],
            "text/plain": [
              "<IPython.core.display.Javascript object>"
            ]
          },
          "metadata": {
            "tags": []
          }
        },
        {
          "output_type": "display_data",
          "data": {
            "application/javascript": [
              "\n",
              "        if (window._pyforest_update_imports_cell) { window._pyforest_update_imports_cell('from xlrd import open_workbook\\nimport spacy\\nfrom scipy import stats\\nimport torch\\nimport plotly as py\\nfrom sklearn.linear_model import LassoCV\\nimport fbprophet\\nfrom sklearn.ensemble import GradientBoostingRegressor\\nfrom sklearn.model_selection import RandomizedSearchCV\\nfrom openpyxl import load_workbook\\nfrom statsmodels.tsa.arima_model import ARIMA\\nfrom sklearn.linear_model import Lasso\\nfrom sklearn.ensemble import GradientBoostingClassifier\\nimport sklearn\\nfrom sklearn.ensemble import RandomForestRegressor\\nfrom sklearn.feature_extraction.text import CountVectorizer\\nimport tqdm\\nimport textblob\\nimport matplotlib as mpl\\nfrom sklearn.linear_model import Ridge\\nfrom sklearn.model_selection import GridSearchCV\\nimport sys\\nfrom scipy import signal as sg\\nimport lightgbm as lgb\\nfrom sklearn.ensemble import RandomForestClassifier\\nimport statsmodels.api as sm\\nimport tensorflow as tf\\nimport skimage\\nimport altair as alt\\nimport xgboost as xgb\\nimport cv2\\nimport pydot\\nimport statistics\\nimport gensim\\nimport pickle\\nimport re\\nimport pandas as pd\\nimport fastai\\nfrom sklearn.model_selection import cross_val_score\\nimport glob\\nfrom sklearn.linear_model import LogisticRegression\\nfrom sklearn import svm\\nimport os\\nfrom sklearn.preprocessing import LabelEncoder\\nimport matplotlib.pyplot as plt\\nfrom sklearn.model_selection import train_test_split\\nfrom sklearn import metrics\\nfrom sklearn.preprocessing import RobustScaler\\nimport seaborn as sns\\nimport bokeh\\nimport plotly.graph_objs as go\\nfrom sklearn.linear_model import LinearRegression\\nfrom sklearn.preprocessing import MinMaxScaler\\nimport plotly.express as px\\nimport imutils\\nfrom sklearn.linear_model import RidgeCV'); }\n",
              "    "
            ],
            "text/plain": [
              "<IPython.core.display.Javascript object>"
            ]
          },
          "metadata": {
            "tags": []
          }
        },
        {
          "output_type": "execute_result",
          "data": {
            "text/plain": [
              "Text(0.5, 1.0, 'Superplastic')"
            ]
          },
          "metadata": {
            "tags": []
          },
          "execution_count": 389
        },
        {
          "output_type": "display_data",
          "data": {
            "image/png": "[encoded data removed]",
            "text/plain": [
              "<Figure size 720x576 with 1 Axes>"
            ]
          },
          "metadata": {
            "tags": [],
            "needs_background": "light"
          }
        }
      ]
    },
    {
      "cell_type": "code",
      "metadata": {
        "colab": {
          "base_uri": "https://localhost:8080/",
          "height": 296
        },
        "id": "BhbVWhf24AhL",
        "outputId": "f030b4dc-97f2-4bf6-af09-1009b025096e"
      },
      "source": [
        "#distribution of cement\n",
        "sns.boxplot(x='superplastic',data=df,orient='h')\n",
        "\n",
        "#this shows there are  outliers found visually"
      ],
      "execution_count": 390,
      "outputs": [
        {
          "output_type": "display_data",
          "data": {
            "application/javascript": [
              "\n",
              "        if (window._pyforest_update_imports_cell) { window._pyforest_update_imports_cell('from xlrd import open_workbook\\nimport spacy\\nfrom scipy import stats\\nimport torch\\nimport plotly as py\\nfrom sklearn.linear_model import LassoCV\\nimport fbprophet\\nfrom sklearn.ensemble import GradientBoostingRegressor\\nfrom sklearn.model_selection import RandomizedSearchCV\\nfrom openpyxl import load_workbook\\nfrom statsmodels.tsa.arima_model import ARIMA\\nfrom sklearn.linear_model import Lasso\\nfrom sklearn.ensemble import GradientBoostingClassifier\\nimport sklearn\\nfrom sklearn.ensemble import RandomForestRegressor\\nfrom sklearn.feature_extraction.text import CountVectorizer\\nimport tqdm\\nimport textblob\\nimport matplotlib as mpl\\nfrom sklearn.linear_model import Ridge\\nfrom sklearn.model_selection import GridSearchCV\\nimport sys\\nfrom scipy import signal as sg\\nimport lightgbm as lgb\\nfrom sklearn.ensemble import RandomForestClassifier\\nimport statsmodels.api as sm\\nimport tensorflow as tf\\nimport skimage\\nimport altair as alt\\nimport xgboost as xgb\\nimport cv2\\nimport pydot\\nimport statistics\\nimport gensim\\nimport pickle\\nimport re\\nimport pandas as pd\\nimport fastai\\nfrom sklearn.model_selection import cross_val_score\\nimport glob\\nfrom sklearn.linear_model import LogisticRegression\\nfrom sklearn import svm\\nimport os\\nfrom sklearn.preprocessing import LabelEncoder\\nimport matplotlib.pyplot as plt\\nfrom sklearn.model_selection import train_test_split\\nfrom sklearn import metrics\\nfrom sklearn.preprocessing import RobustScaler\\nimport seaborn as sns\\nimport bokeh\\nimport plotly.graph_objs as go\\nfrom sklearn.linear_model import LinearRegression\\nfrom sklearn.preprocessing import MinMaxScaler\\nimport plotly.express as px\\nimport imutils\\nfrom sklearn.linear_model import RidgeCV'); }\n",
              "    "
            ],
            "text/plain": [
              "<IPython.core.display.Javascript object>"
            ]
          },
          "metadata": {
            "tags": []
          }
        },
        {
          "output_type": "execute_result",
          "data": {
            "text/plain": [
              "<matplotlib.axes._subplots.AxesSubplot at 0x7f26f657e910>"
            ]
          },
          "metadata": {
            "tags": []
          },
          "execution_count": 390
        },
        {
          "output_type": "display_data",
          "data": {
            "image/png": "[encoded data removed]",
            "text/plain": [
              "<Figure size 432x288 with 1 Axes>"
            ]
          },
          "metadata": {
            "tags": [],
            "needs_background": "light"
          }
        }
      ]
    },
    {
      "cell_type": "code",
      "metadata": {
        "id": "L0dF8zTt4AhL"
      },
      "source": [
        ""
      ],
      "execution_count": 390,
      "outputs": []
    },
    {
      "cell_type": "markdown",
      "metadata": {
        "id": "O-Y_473m4BwT"
      },
      "source": [
        "### coarseagg\n"
      ]
    },
    {
      "cell_type": "code",
      "metadata": {
        "colab": {
          "base_uri": "https://localhost:8080/"
        },
        "id": "lyhVrwuW4BwU",
        "outputId": "6f402957-2fea-47d0-c93e-8ad0be14e2b0"
      },
      "source": [
        "Q1=df['coarseagg'].quantile(q=0.25)\n",
        "Q3=df['coarseagg'].quantile(q=0.75)\n",
        "print('1st quartile (Q1) is : ',Q1)\n",
        "print('3rt quartile (Q3) is : ',Q3)\n",
        "print('Interquartile range (IQR) is ',stats.iqr(df['coarseagg']))\n",
        "\n",
        "#finding Outliers from Interquartile range\n",
        "\n",
        "L_outliers = Q1-1.5*(Q3-Q1)\n",
        "O_outliers = Q3+1.5*(Q3-Q1) \n",
        "print('Lower outlier limit in coarseagg: ',L_outliers)\n",
        "print('Upper outlier limit in coarseagg: ',O_outliers)"
      ],
      "execution_count": 391,
      "outputs": [
        {
          "output_type": "stream",
          "text": [
            "1st quartile (Q1) is :  932.0\n",
            "3rt quartile (Q3) is :  1029.4\n",
            "Interquartile range (IQR) is  97.40000000000009\n",
            "Lower outlier limit in coarseagg:  785.8999999999999\n",
            "Upper outlier limit in coarseagg:  1175.5000000000002\n"
          ],
          "name": "stdout"
        }
      ]
    },
    {
      "cell_type": "code",
      "metadata": {
        "colab": {
          "base_uri": "https://localhost:8080/"
        },
        "id": "qhyh7VmI4BwV",
        "outputId": "3b0531cb-3145-45b4-db5e-c95d8d26157e"
      },
      "source": [
        "# checking presence of outliers with upper and lower limits\n",
        "print('number of outliers in  water upper: ',df[df['coarseagg']>1175.5000000000002]['coarseagg'].count())\n",
        "print('number of outliers in  water Lower: ',df[df['coarseagg']<785.8999999999999]['coarseagg'].count())"
      ],
      "execution_count": 392,
      "outputs": [
        {
          "output_type": "stream",
          "text": [
            "number of outliers in  water upper:  0\n",
            "number of outliers in  water Lower:  0\n"
          ],
          "name": "stdout"
        }
      ]
    },
    {
      "cell_type": "code",
      "metadata": {
        "colab": {
          "base_uri": "https://localhost:8080/",
          "height": 530
        },
        "id": "eS_X7iEb4BwW",
        "outputId": "35a36ed6-9900-464b-f061-41619476e5b1"
      },
      "source": [
        "plt.figure(figsize=(10,8))\n",
        "sns.distplot(df['coarseagg']).set_title(\"CoarseAgg\")"
      ],
      "execution_count": 393,
      "outputs": [
        {
          "output_type": "display_data",
          "data": {
            "application/javascript": [
              "\n",
              "        if (window._pyforest_update_imports_cell) { window._pyforest_update_imports_cell('from xlrd import open_workbook\\nimport spacy\\nfrom scipy import stats\\nimport torch\\nimport plotly as py\\nfrom sklearn.linear_model import LassoCV\\nimport fbprophet\\nfrom sklearn.ensemble import GradientBoostingRegressor\\nfrom sklearn.model_selection import RandomizedSearchCV\\nfrom openpyxl import load_workbook\\nfrom statsmodels.tsa.arima_model import ARIMA\\nfrom sklearn.linear_model import Lasso\\nfrom sklearn.ensemble import GradientBoostingClassifier\\nimport sklearn\\nfrom sklearn.ensemble import RandomForestRegressor\\nfrom sklearn.feature_extraction.text import CountVectorizer\\nimport tqdm\\nimport textblob\\nimport matplotlib as mpl\\nfrom sklearn.linear_model import Ridge\\nfrom sklearn.model_selection import GridSearchCV\\nimport sys\\nfrom scipy import signal as sg\\nimport lightgbm as lgb\\nfrom sklearn.ensemble import RandomForestClassifier\\nimport statsmodels.api as sm\\nimport tensorflow as tf\\nimport skimage\\nimport altair as alt\\nimport xgboost as xgb\\nimport cv2\\nimport pydot\\nimport statistics\\nimport gensim\\nimport pickle\\nimport re\\nimport pandas as pd\\nimport fastai\\nfrom sklearn.model_selection import cross_val_score\\nimport glob\\nfrom sklearn.linear_model import LogisticRegression\\nfrom sklearn import svm\\nimport os\\nfrom sklearn.preprocessing import LabelEncoder\\nimport matplotlib.pyplot as plt\\nfrom sklearn.model_selection import train_test_split\\nfrom sklearn import metrics\\nfrom sklearn.preprocessing import RobustScaler\\nimport seaborn as sns\\nimport bokeh\\nimport plotly.graph_objs as go\\nfrom sklearn.linear_model import LinearRegression\\nfrom sklearn.preprocessing import MinMaxScaler\\nimport plotly.express as px\\nimport imutils\\nfrom sklearn.linear_model import RidgeCV'); }\n",
              "    "
            ],
            "text/plain": [
              "<IPython.core.display.Javascript object>"
            ]
          },
          "metadata": {
            "tags": []
          }
        },
        {
          "output_type": "display_data",
          "data": {
            "application/javascript": [
              "\n",
              "        if (window._pyforest_update_imports_cell) { window._pyforest_update_imports_cell('from xlrd import open_workbook\\nimport spacy\\nfrom scipy import stats\\nimport torch\\nimport plotly as py\\nfrom sklearn.linear_model import LassoCV\\nimport fbprophet\\nfrom sklearn.ensemble import GradientBoostingRegressor\\nfrom sklearn.model_selection import RandomizedSearchCV\\nfrom openpyxl import load_workbook\\nfrom statsmodels.tsa.arima_model import ARIMA\\nfrom sklearn.linear_model import Lasso\\nfrom sklearn.ensemble import GradientBoostingClassifier\\nimport sklearn\\nfrom sklearn.ensemble import RandomForestRegressor\\nfrom sklearn.feature_extraction.text import CountVectorizer\\nimport tqdm\\nimport textblob\\nimport matplotlib as mpl\\nfrom sklearn.linear_model import Ridge\\nfrom sklearn.model_selection import GridSearchCV\\nimport sys\\nfrom scipy import signal as sg\\nimport lightgbm as lgb\\nfrom sklearn.ensemble import RandomForestClassifier\\nimport statsmodels.api as sm\\nimport tensorflow as tf\\nimport skimage\\nimport altair as alt\\nimport xgboost as xgb\\nimport cv2\\nimport pydot\\nimport statistics\\nimport gensim\\nimport pickle\\nimport re\\nimport pandas as pd\\nimport fastai\\nfrom sklearn.model_selection import cross_val_score\\nimport glob\\nfrom sklearn.linear_model import LogisticRegression\\nfrom sklearn import svm\\nimport os\\nfrom sklearn.preprocessing import LabelEncoder\\nimport matplotlib.pyplot as plt\\nfrom sklearn.model_selection import train_test_split\\nfrom sklearn import metrics\\nfrom sklearn.preprocessing import RobustScaler\\nimport seaborn as sns\\nimport bokeh\\nimport plotly.graph_objs as go\\nfrom sklearn.linear_model import LinearRegression\\nfrom sklearn.preprocessing import MinMaxScaler\\nimport plotly.express as px\\nimport imutils\\nfrom sklearn.linear_model import RidgeCV'); }\n",
              "    "
            ],
            "text/plain": [
              "<IPython.core.display.Javascript object>"
            ]
          },
          "metadata": {
            "tags": []
          }
        },
        {
          "output_type": "execute_result",
          "data": {
            "text/plain": [
              "Text(0.5, 1.0, 'CoarseAgg')"
            ]
          },
          "metadata": {
            "tags": []
          },
          "execution_count": 393
        },
        {
          "output_type": "display_data",
          "data": {
            "image/png": "[encoded data removed]",
            "text/plain": [
              "<Figure size 720x576 with 1 Axes>"
            ]
          },
          "metadata": {
            "tags": [],
            "needs_background": "light"
          }
        }
      ]
    },
    {
      "cell_type": "code",
      "metadata": {
        "colab": {
          "base_uri": "https://localhost:8080/",
          "height": 296
        },
        "id": "LJAdEuja4BwX",
        "outputId": "bcad4ace-d8e4-4cba-ce31-4c42d0a1b17e"
      },
      "source": [
        "#distribution of cement\n",
        "sns.boxplot(x='coarseagg',data=df,orient='h')\n",
        "\n",
        "#this shows there are no outliers found visually"
      ],
      "execution_count": 394,
      "outputs": [
        {
          "output_type": "display_data",
          "data": {
            "application/javascript": [
              "\n",
              "        if (window._pyforest_update_imports_cell) { window._pyforest_update_imports_cell('from xlrd import open_workbook\\nimport spacy\\nfrom scipy import stats\\nimport torch\\nimport plotly as py\\nfrom sklearn.linear_model import LassoCV\\nimport fbprophet\\nfrom sklearn.ensemble import GradientBoostingRegressor\\nfrom sklearn.model_selection import RandomizedSearchCV\\nfrom openpyxl import load_workbook\\nfrom statsmodels.tsa.arima_model import ARIMA\\nfrom sklearn.linear_model import Lasso\\nfrom sklearn.ensemble import GradientBoostingClassifier\\nimport sklearn\\nfrom sklearn.ensemble import RandomForestRegressor\\nfrom sklearn.feature_extraction.text import CountVectorizer\\nimport tqdm\\nimport textblob\\nimport matplotlib as mpl\\nfrom sklearn.linear_model import Ridge\\nfrom sklearn.model_selection import GridSearchCV\\nimport sys\\nfrom scipy import signal as sg\\nimport lightgbm as lgb\\nfrom sklearn.ensemble import RandomForestClassifier\\nimport statsmodels.api as sm\\nimport tensorflow as tf\\nimport skimage\\nimport altair as alt\\nimport xgboost as xgb\\nimport cv2\\nimport pydot\\nimport statistics\\nimport gensim\\nimport pickle\\nimport re\\nimport pandas as pd\\nimport fastai\\nfrom sklearn.model_selection import cross_val_score\\nimport glob\\nfrom sklearn.linear_model import LogisticRegression\\nfrom sklearn import svm\\nimport os\\nfrom sklearn.preprocessing import LabelEncoder\\nimport matplotlib.pyplot as plt\\nfrom sklearn.model_selection import train_test_split\\nfrom sklearn import metrics\\nfrom sklearn.preprocessing import RobustScaler\\nimport seaborn as sns\\nimport bokeh\\nimport plotly.graph_objs as go\\nfrom sklearn.linear_model import LinearRegression\\nfrom sklearn.preprocessing import MinMaxScaler\\nimport plotly.express as px\\nimport imutils\\nfrom sklearn.linear_model import RidgeCV'); }\n",
              "    "
            ],
            "text/plain": [
              "<IPython.core.display.Javascript object>"
            ]
          },
          "metadata": {
            "tags": []
          }
        },
        {
          "output_type": "execute_result",
          "data": {
            "text/plain": [
              "<matplotlib.axes._subplots.AxesSubplot at 0x7f26f6753190>"
            ]
          },
          "metadata": {
            "tags": []
          },
          "execution_count": 394
        },
        {
          "output_type": "display_data",
          "data": {
            "image/png": "[encoded data removed]",
            "text/plain": [
              "<Figure size 432x288 with 1 Axes>"
            ]
          },
          "metadata": {
            "tags": [],
            "needs_background": "light"
          }
        }
      ]
    },
    {
      "cell_type": "code",
      "metadata": {
        "id": "Ivi2xTN74BwX"
      },
      "source": [
        ""
      ],
      "execution_count": 394,
      "outputs": []
    },
    {
      "cell_type": "markdown",
      "metadata": {
        "id": "YqDVFzFT5qYI"
      },
      "source": [
        "### fineagg\n"
      ]
    },
    {
      "cell_type": "code",
      "metadata": {
        "colab": {
          "base_uri": "https://localhost:8080/"
        },
        "id": "urJXUL6b5qYS",
        "outputId": "e761620f-bc93-4472-b098-ec69791b36b6"
      },
      "source": [
        "Q1=df['fineagg'].quantile(q=0.25)\n",
        "Q3=df['fineagg'].quantile(q=0.75)\n",
        "print('1st quartile (Q1) is : ',Q1)\n",
        "print('3rt quartile (Q3) is : ',Q3)\n",
        "print('Interquartile range (IQR) is ',stats.iqr(df['fineagg']))\n",
        "\n",
        "#finding Outliers from Interquartile range\n",
        "\n",
        "L_outliers = Q1-1.5*(Q3-Q1)\n",
        "O_outliers = Q3+1.5*(Q3-Q1) \n",
        "print('Lower outlier limit in fineagg: ',L_outliers)\n",
        "print('Upper outlier limit in fineagg: ',O_outliers)"
      ],
      "execution_count": 395,
      "outputs": [
        {
          "output_type": "stream",
          "text": [
            "1st quartile (Q1) is :  730.9499999999999\n",
            "3rt quartile (Q3) is :  824.0\n",
            "Interquartile range (IQR) is  93.05000000000007\n",
            "Lower outlier limit in fineagg:  591.3749999999998\n",
            "Upper outlier limit in fineagg:  963.575\n"
          ],
          "name": "stdout"
        }
      ]
    },
    {
      "cell_type": "code",
      "metadata": {
        "colab": {
          "base_uri": "https://localhost:8080/"
        },
        "id": "MbL25iMt5qYT",
        "outputId": "004e72dc-b196-4e8a-dca2-e98eceaeaacc"
      },
      "source": [
        "# checking presence of outliers with upper and lower limits\n",
        "print('number of outliers in  fineagg upper: ',df[df['coarseagg']>963.575]['coarseagg'].count())\n",
        "print('number of outliers in  fineagg Lower: ',df[df['coarseagg']<591.3749999999998]['coarseagg'].count())"
      ],
      "execution_count": 396,
      "outputs": [
        {
          "output_type": "stream",
          "text": [
            "number of outliers in  fineagg upper:  563\n",
            "number of outliers in  fineagg Lower:  0\n"
          ],
          "name": "stdout"
        }
      ]
    },
    {
      "cell_type": "code",
      "metadata": {
        "colab": {
          "base_uri": "https://localhost:8080/",
          "height": 530
        },
        "id": "6O1UxAoa5qYT",
        "outputId": "17ca9a71-74a6-4a00-92ae-e3bfe6dd23db"
      },
      "source": [
        "plt.figure(figsize=(10,8))\n",
        "sns.distplot(df['fineagg']).set_title(\"fineagg\")"
      ],
      "execution_count": 397,
      "outputs": [
        {
          "output_type": "display_data",
          "data": {
            "application/javascript": [
              "\n",
              "        if (window._pyforest_update_imports_cell) { window._pyforest_update_imports_cell('from xlrd import open_workbook\\nimport spacy\\nfrom scipy import stats\\nimport torch\\nimport plotly as py\\nfrom sklearn.linear_model import LassoCV\\nimport fbprophet\\nfrom sklearn.ensemble import GradientBoostingRegressor\\nfrom sklearn.model_selection import RandomizedSearchCV\\nfrom openpyxl import load_workbook\\nfrom statsmodels.tsa.arima_model import ARIMA\\nfrom sklearn.linear_model import Lasso\\nfrom sklearn.ensemble import GradientBoostingClassifier\\nimport sklearn\\nfrom sklearn.ensemble import RandomForestRegressor\\nfrom sklearn.feature_extraction.text import CountVectorizer\\nimport tqdm\\nimport textblob\\nimport matplotlib as mpl\\nfrom sklearn.linear_model import Ridge\\nfrom sklearn.model_selection import GridSearchCV\\nimport sys\\nfrom scipy import signal as sg\\nimport lightgbm as lgb\\nfrom sklearn.ensemble import RandomForestClassifier\\nimport statsmodels.api as sm\\nimport tensorflow as tf\\nimport skimage\\nimport altair as alt\\nimport xgboost as xgb\\nimport cv2\\nimport pydot\\nimport statistics\\nimport gensim\\nimport pickle\\nimport re\\nimport pandas as pd\\nimport fastai\\nfrom sklearn.model_selection import cross_val_score\\nimport glob\\nfrom sklearn.linear_model import LogisticRegression\\nfrom sklearn import svm\\nimport os\\nfrom sklearn.preprocessing import LabelEncoder\\nimport matplotlib.pyplot as plt\\nfrom sklearn.model_selection import train_test_split\\nfrom sklearn import metrics\\nfrom sklearn.preprocessing import RobustScaler\\nimport seaborn as sns\\nimport bokeh\\nimport plotly.graph_objs as go\\nfrom sklearn.linear_model import LinearRegression\\nfrom sklearn.preprocessing import MinMaxScaler\\nimport plotly.express as px\\nimport imutils\\nfrom sklearn.linear_model import RidgeCV'); }\n",
              "    "
            ],
            "text/plain": [
              "<IPython.core.display.Javascript object>"
            ]
          },
          "metadata": {
            "tags": []
          }
        },
        {
          "output_type": "display_data",
          "data": {
            "application/javascript": [
              "\n",
              "        if (window._pyforest_update_imports_cell) { window._pyforest_update_imports_cell('from xlrd import open_workbook\\nimport spacy\\nfrom scipy import stats\\nimport torch\\nimport plotly as py\\nfrom sklearn.linear_model import LassoCV\\nimport fbprophet\\nfrom sklearn.ensemble import GradientBoostingRegressor\\nfrom sklearn.model_selection import RandomizedSearchCV\\nfrom openpyxl import load_workbook\\nfrom statsmodels.tsa.arima_model import ARIMA\\nfrom sklearn.linear_model import Lasso\\nfrom sklearn.ensemble import GradientBoostingClassifier\\nimport sklearn\\nfrom sklearn.ensemble import RandomForestRegressor\\nfrom sklearn.feature_extraction.text import CountVectorizer\\nimport tqdm\\nimport textblob\\nimport matplotlib as mpl\\nfrom sklearn.linear_model import Ridge\\nfrom sklearn.model_selection import GridSearchCV\\nimport sys\\nfrom scipy import signal as sg\\nimport lightgbm as lgb\\nfrom sklearn.ensemble import RandomForestClassifier\\nimport statsmodels.api as sm\\nimport tensorflow as tf\\nimport skimage\\nimport altair as alt\\nimport xgboost as xgb\\nimport cv2\\nimport pydot\\nimport statistics\\nimport gensim\\nimport pickle\\nimport re\\nimport pandas as pd\\nimport fastai\\nfrom sklearn.model_selection import cross_val_score\\nimport glob\\nfrom sklearn.linear_model import LogisticRegression\\nfrom sklearn import svm\\nimport os\\nfrom sklearn.preprocessing import LabelEncoder\\nimport matplotlib.pyplot as plt\\nfrom sklearn.model_selection import train_test_split\\nfrom sklearn import metrics\\nfrom sklearn.preprocessing import RobustScaler\\nimport seaborn as sns\\nimport bokeh\\nimport plotly.graph_objs as go\\nfrom sklearn.linear_model import LinearRegression\\nfrom sklearn.preprocessing import MinMaxScaler\\nimport plotly.express as px\\nimport imutils\\nfrom sklearn.linear_model import RidgeCV'); }\n",
              "    "
            ],
            "text/plain": [
              "<IPython.core.display.Javascript object>"
            ]
          },
          "metadata": {
            "tags": []
          }
        },
        {
          "output_type": "execute_result",
          "data": {
            "text/plain": [
              "Text(0.5, 1.0, 'fineagg')"
            ]
          },
          "metadata": {
            "tags": []
          },
          "execution_count": 397
        },
        {
          "output_type": "display_data",
          "data": {
            "image/png": "[encoded data removed]",
            "text/plain": [
              "<Figure size 720x576 with 1 Axes>"
            ]
          },
          "metadata": {
            "tags": [],
            "needs_background": "light"
          }
        }
      ]
    },
    {
      "cell_type": "code",
      "metadata": {
        "colab": {
          "base_uri": "https://localhost:8080/",
          "height": 296
        },
        "id": "GX1rqFN05qYT",
        "outputId": "2302bebb-86e7-49b8-c04b-c38cfdec32e7"
      },
      "source": [
        "#distribution of cement\n",
        "sns.boxplot(x='fineagg',data=df,orient='h')\n",
        "\n",
        "#this shows there are  outliers found visually"
      ],
      "execution_count": 398,
      "outputs": [
        {
          "output_type": "display_data",
          "data": {
            "application/javascript": [
              "\n",
              "        if (window._pyforest_update_imports_cell) { window._pyforest_update_imports_cell('from xlrd import open_workbook\\nimport spacy\\nfrom scipy import stats\\nimport torch\\nimport plotly as py\\nfrom sklearn.linear_model import LassoCV\\nimport fbprophet\\nfrom sklearn.ensemble import GradientBoostingRegressor\\nfrom sklearn.model_selection import RandomizedSearchCV\\nfrom openpyxl import load_workbook\\nfrom statsmodels.tsa.arima_model import ARIMA\\nfrom sklearn.linear_model import Lasso\\nfrom sklearn.ensemble import GradientBoostingClassifier\\nimport sklearn\\nfrom sklearn.ensemble import RandomForestRegressor\\nfrom sklearn.feature_extraction.text import CountVectorizer\\nimport tqdm\\nimport textblob\\nimport matplotlib as mpl\\nfrom sklearn.linear_model import Ridge\\nfrom sklearn.model_selection import GridSearchCV\\nimport sys\\nfrom scipy import signal as sg\\nimport lightgbm as lgb\\nfrom sklearn.ensemble import RandomForestClassifier\\nimport statsmodels.api as sm\\nimport tensorflow as tf\\nimport skimage\\nimport altair as alt\\nimport xgboost as xgb\\nimport cv2\\nimport pydot\\nimport statistics\\nimport gensim\\nimport pickle\\nimport re\\nimport pandas as pd\\nimport fastai\\nfrom sklearn.model_selection import cross_val_score\\nimport glob\\nfrom sklearn.linear_model import LogisticRegression\\nfrom sklearn import svm\\nimport os\\nfrom sklearn.preprocessing import LabelEncoder\\nimport matplotlib.pyplot as plt\\nfrom sklearn.model_selection import train_test_split\\nfrom sklearn import metrics\\nfrom sklearn.preprocessing import RobustScaler\\nimport seaborn as sns\\nimport bokeh\\nimport plotly.graph_objs as go\\nfrom sklearn.linear_model import LinearRegression\\nfrom sklearn.preprocessing import MinMaxScaler\\nimport plotly.express as px\\nimport imutils\\nfrom sklearn.linear_model import RidgeCV'); }\n",
              "    "
            ],
            "text/plain": [
              "<IPython.core.display.Javascript object>"
            ]
          },
          "metadata": {
            "tags": []
          }
        },
        {
          "output_type": "execute_result",
          "data": {
            "text/plain": [
              "<matplotlib.axes._subplots.AxesSubplot at 0x7f26f6393910>"
            ]
          },
          "metadata": {
            "tags": []
          },
          "execution_count": 398
        },
        {
          "output_type": "display_data",
          "data": {
            "image/png": "[encoded data removed]",
            "text/plain": [
              "<Figure size 432x288 with 1 Axes>"
            ]
          },
          "metadata": {
            "tags": [],
            "needs_background": "light"
          }
        }
      ]
    },
    {
      "cell_type": "code",
      "metadata": {
        "id": "KQ1WoqGu5qYT"
      },
      "source": [
        ""
      ],
      "execution_count": 398,
      "outputs": []
    },
    {
      "cell_type": "markdown",
      "metadata": {
        "id": "MsPfydWV5q4k"
      },
      "source": [
        "### age\n"
      ]
    },
    {
      "cell_type": "code",
      "metadata": {
        "colab": {
          "base_uri": "https://localhost:8080/"
        },
        "id": "Wtqr8eCe5q4k",
        "outputId": "2952d738-1659-4b92-fdfa-e35d7fc247e5"
      },
      "source": [
        "Q1=df['age'].quantile(q=0.25)\n",
        "Q3=df['age'].quantile(q=0.75)\n",
        "print('1st quartile (Q1) is : ',Q1)\n",
        "print('3rt quartile (Q3) is : ',Q3)\n",
        "print('Interquartile range (IQR) is ',stats.iqr(df['age']))\n",
        "\n",
        "#finding Outliers from Interquartile range\n",
        "\n",
        "L_outliers = Q1-1.5*(Q3-Q1)\n",
        "O_outliers = Q3+1.5*(Q3-Q1) \n",
        "print('Lower outlier limit in age: ',L_outliers)\n",
        "print('Upper outlier limit in age: ',O_outliers)"
      ],
      "execution_count": 399,
      "outputs": [
        {
          "output_type": "stream",
          "text": [
            "1st quartile (Q1) is :  7.0\n",
            "3rt quartile (Q3) is :  56.0\n",
            "Interquartile range (IQR) is  49.0\n",
            "Lower outlier limit in age:  -66.5\n",
            "Upper outlier limit in age:  129.5\n"
          ],
          "name": "stdout"
        }
      ]
    },
    {
      "cell_type": "code",
      "metadata": {
        "colab": {
          "base_uri": "https://localhost:8080/"
        },
        "id": "miVgRTb85q4n",
        "outputId": "1f945565-e364-4e4c-da15-e93847890da3"
      },
      "source": [
        "# checking presence of outliers with upper and lower limits\n",
        "print('number of outliers in age upper: ',df[df['age']>129.5]['age'].count())\n",
        "print('number of outliers in age Lower: ',df[df['age']<-66.5]['age'].count())"
      ],
      "execution_count": 400,
      "outputs": [
        {
          "output_type": "stream",
          "text": [
            "number of outliers in age upper:  59\n",
            "number of outliers in age Lower:  0\n"
          ],
          "name": "stdout"
        }
      ]
    },
    {
      "cell_type": "code",
      "metadata": {
        "colab": {
          "base_uri": "https://localhost:8080/",
          "height": 530
        },
        "id": "cGMTLxhp5q4o",
        "outputId": "244f7db2-de27-4752-c0ac-523fa80ac383"
      },
      "source": [
        "plt.figure(figsize=(10,8))\n",
        "sns.distplot(df['age']).set_title(\"age\")"
      ],
      "execution_count": 401,
      "outputs": [
        {
          "output_type": "display_data",
          "data": {
            "application/javascript": [
              "\n",
              "        if (window._pyforest_update_imports_cell) { window._pyforest_update_imports_cell('from xlrd import open_workbook\\nimport spacy\\nfrom scipy import stats\\nimport torch\\nimport plotly as py\\nfrom sklearn.linear_model import LassoCV\\nimport fbprophet\\nfrom sklearn.ensemble import GradientBoostingRegressor\\nfrom sklearn.model_selection import RandomizedSearchCV\\nfrom openpyxl import load_workbook\\nfrom statsmodels.tsa.arima_model import ARIMA\\nfrom sklearn.linear_model import Lasso\\nfrom sklearn.ensemble import GradientBoostingClassifier\\nimport sklearn\\nfrom sklearn.ensemble import RandomForestRegressor\\nfrom sklearn.feature_extraction.text import CountVectorizer\\nimport tqdm\\nimport textblob\\nimport matplotlib as mpl\\nfrom sklearn.linear_model import Ridge\\nfrom sklearn.model_selection import GridSearchCV\\nimport sys\\nfrom scipy import signal as sg\\nimport lightgbm as lgb\\nfrom sklearn.ensemble import RandomForestClassifier\\nimport statsmodels.api as sm\\nimport tensorflow as tf\\nimport skimage\\nimport altair as alt\\nimport xgboost as xgb\\nimport cv2\\nimport pydot\\nimport statistics\\nimport gensim\\nimport pickle\\nimport re\\nimport pandas as pd\\nimport fastai\\nfrom sklearn.model_selection import cross_val_score\\nimport glob\\nfrom sklearn.linear_model import LogisticRegression\\nfrom sklearn import svm\\nimport os\\nfrom sklearn.preprocessing import LabelEncoder\\nimport matplotlib.pyplot as plt\\nfrom sklearn.model_selection import train_test_split\\nfrom sklearn import metrics\\nfrom sklearn.preprocessing import RobustScaler\\nimport seaborn as sns\\nimport bokeh\\nimport plotly.graph_objs as go\\nfrom sklearn.linear_model import LinearRegression\\nfrom sklearn.preprocessing import MinMaxScaler\\nimport plotly.express as px\\nimport imutils\\nfrom sklearn.linear_model import RidgeCV'); }\n",
              "    "
            ],
            "text/plain": [
              "<IPython.core.display.Javascript object>"
            ]
          },
          "metadata": {
            "tags": []
          }
        },
        {
          "output_type": "display_data",
          "data": {
            "application/javascript": [
              "\n",
              "        if (window._pyforest_update_imports_cell) { window._pyforest_update_imports_cell('from xlrd import open_workbook\\nimport spacy\\nfrom scipy import stats\\nimport torch\\nimport plotly as py\\nfrom sklearn.linear_model import LassoCV\\nimport fbprophet\\nfrom sklearn.ensemble import GradientBoostingRegressor\\nfrom sklearn.model_selection import RandomizedSearchCV\\nfrom openpyxl import load_workbook\\nfrom statsmodels.tsa.arima_model import ARIMA\\nfrom sklearn.linear_model import Lasso\\nfrom sklearn.ensemble import GradientBoostingClassifier\\nimport sklearn\\nfrom sklearn.ensemble import RandomForestRegressor\\nfrom sklearn.feature_extraction.text import CountVectorizer\\nimport tqdm\\nimport textblob\\nimport matplotlib as mpl\\nfrom sklearn.linear_model import Ridge\\nfrom sklearn.model_selection import GridSearchCV\\nimport sys\\nfrom scipy import signal as sg\\nimport lightgbm as lgb\\nfrom sklearn.ensemble import RandomForestClassifier\\nimport statsmodels.api as sm\\nimport tensorflow as tf\\nimport skimage\\nimport altair as alt\\nimport xgboost as xgb\\nimport cv2\\nimport pydot\\nimport statistics\\nimport gensim\\nimport pickle\\nimport re\\nimport pandas as pd\\nimport fastai\\nfrom sklearn.model_selection import cross_val_score\\nimport glob\\nfrom sklearn.linear_model import LogisticRegression\\nfrom sklearn import svm\\nimport os\\nfrom sklearn.preprocessing import LabelEncoder\\nimport matplotlib.pyplot as plt\\nfrom sklearn.model_selection import train_test_split\\nfrom sklearn import metrics\\nfrom sklearn.preprocessing import RobustScaler\\nimport seaborn as sns\\nimport bokeh\\nimport plotly.graph_objs as go\\nfrom sklearn.linear_model import LinearRegression\\nfrom sklearn.preprocessing import MinMaxScaler\\nimport plotly.express as px\\nimport imutils\\nfrom sklearn.linear_model import RidgeCV'); }\n",
              "    "
            ],
            "text/plain": [
              "<IPython.core.display.Javascript object>"
            ]
          },
          "metadata": {
            "tags": []
          }
        },
        {
          "output_type": "execute_result",
          "data": {
            "text/plain": [
              "Text(0.5, 1.0, 'age')"
            ]
          },
          "metadata": {
            "tags": []
          },
          "execution_count": 401
        },
        {
          "output_type": "display_data",
          "data": {
            "image/png": "[encoded data removed]",
            "text/plain": [
              "<Figure size 720x576 with 1 Axes>"
            ]
          },
          "metadata": {
            "tags": [],
            "needs_background": "light"
          }
        }
      ]
    },
    {
      "cell_type": "code",
      "metadata": {
        "colab": {
          "base_uri": "https://localhost:8080/",
          "height": 296
        },
        "id": "SmF0Oeke5q4o",
        "outputId": "9fe59380-c655-4f61-dad7-f1f2f3ae38f7"
      },
      "source": [
        "#distribution of cement\n",
        "sns.boxplot(x='age',data=df,orient='h')\n",
        "\n",
        "#this shows there are outliers found visually"
      ],
      "execution_count": 402,
      "outputs": [
        {
          "output_type": "display_data",
          "data": {
            "application/javascript": [
              "\n",
              "        if (window._pyforest_update_imports_cell) { window._pyforest_update_imports_cell('from xlrd import open_workbook\\nimport spacy\\nfrom scipy import stats\\nimport torch\\nimport plotly as py\\nfrom sklearn.linear_model import LassoCV\\nimport fbprophet\\nfrom sklearn.ensemble import GradientBoostingRegressor\\nfrom sklearn.model_selection import RandomizedSearchCV\\nfrom openpyxl import load_workbook\\nfrom statsmodels.tsa.arima_model import ARIMA\\nfrom sklearn.linear_model import Lasso\\nfrom sklearn.ensemble import GradientBoostingClassifier\\nimport sklearn\\nfrom sklearn.ensemble import RandomForestRegressor\\nfrom sklearn.feature_extraction.text import CountVectorizer\\nimport tqdm\\nimport textblob\\nimport matplotlib as mpl\\nfrom sklearn.linear_model import Ridge\\nfrom sklearn.model_selection import GridSearchCV\\nimport sys\\nfrom scipy import signal as sg\\nimport lightgbm as lgb\\nfrom sklearn.ensemble import RandomForestClassifier\\nimport statsmodels.api as sm\\nimport tensorflow as tf\\nimport skimage\\nimport altair as alt\\nimport xgboost as xgb\\nimport cv2\\nimport pydot\\nimport statistics\\nimport gensim\\nimport pickle\\nimport re\\nimport pandas as pd\\nimport fastai\\nfrom sklearn.model_selection import cross_val_score\\nimport glob\\nfrom sklearn.linear_model import LogisticRegression\\nfrom sklearn import svm\\nimport os\\nfrom sklearn.preprocessing import LabelEncoder\\nimport matplotlib.pyplot as plt\\nfrom sklearn.model_selection import train_test_split\\nfrom sklearn import metrics\\nfrom sklearn.preprocessing import RobustScaler\\nimport seaborn as sns\\nimport bokeh\\nimport plotly.graph_objs as go\\nfrom sklearn.linear_model import LinearRegression\\nfrom sklearn.preprocessing import MinMaxScaler\\nimport plotly.express as px\\nimport imutils\\nfrom sklearn.linear_model import RidgeCV'); }\n",
              "    "
            ],
            "text/plain": [
              "<IPython.core.display.Javascript object>"
            ]
          },
          "metadata": {
            "tags": []
          }
        },
        {
          "output_type": "execute_result",
          "data": {
            "text/plain": [
              "<matplotlib.axes._subplots.AxesSubplot at 0x7f26f6258190>"
            ]
          },
          "metadata": {
            "tags": []
          },
          "execution_count": 402
        },
        {
          "output_type": "display_data",
          "data": {
            "image/png": "[encoded data removed]",
            "text/plain": [
              "<Figure size 432x288 with 1 Axes>"
            ]
          },
          "metadata": {
            "tags": [],
            "needs_background": "light"
          }
        }
      ]
    },
    {
      "cell_type": "code",
      "metadata": {
        "id": "Y-V3ALXs93_d"
      },
      "source": [
        ""
      ],
      "execution_count": 402,
      "outputs": []
    },
    {
      "cell_type": "markdown",
      "metadata": {
        "id": "DmIosBH4968J"
      },
      "source": [
        "### Multivariable Analysis"
      ]
    },
    {
      "cell_type": "code",
      "metadata": {
        "colab": {
          "base_uri": "https://localhost:8080/",
          "height": 949
        },
        "id": "4VBSDcV1-B1J",
        "outputId": "d79e2ced-9ed8-414c-d31e-e59a93a99402"
      },
      "source": [
        "#Dist plot\n",
        "fig, ax2 = plt.subplots(3,3,figsize=(16,16))\n",
        "sns.distplot(df['cement'],ax=ax2[0][0])\n",
        "sns.distplot(df['slag'],ax=ax2[0][1])\n",
        "sns.distplot(df['ash'],ax=ax2[0][2])\n",
        "sns.distplot(df['water'],ax=ax2[1][0])\n",
        "sns.distplot(df['superplastic'],ax=ax2[1][1])\n",
        "sns.distplot(df['coarseagg'],ax=ax2[1][2])\n",
        "sns.distplot(df['fineagg'],ax=ax2[2][0])\n",
        "sns.distplot(df['age'],ax=ax2[2][1])\n",
        "sns.distplot(df['strength'],ax=ax2[2][2])"
      ],
      "execution_count": 403,
      "outputs": [
        {
          "output_type": "display_data",
          "data": {
            "application/javascript": [
              "\n",
              "        if (window._pyforest_update_imports_cell) { window._pyforest_update_imports_cell('from xlrd import open_workbook\\nimport spacy\\nfrom scipy import stats\\nimport torch\\nimport plotly as py\\nfrom sklearn.linear_model import LassoCV\\nimport fbprophet\\nfrom sklearn.ensemble import GradientBoostingRegressor\\nfrom sklearn.model_selection import RandomizedSearchCV\\nfrom openpyxl import load_workbook\\nfrom statsmodels.tsa.arima_model import ARIMA\\nfrom sklearn.linear_model import Lasso\\nfrom sklearn.ensemble import GradientBoostingClassifier\\nimport sklearn\\nfrom sklearn.ensemble import RandomForestRegressor\\nfrom sklearn.feature_extraction.text import CountVectorizer\\nimport tqdm\\nimport textblob\\nimport matplotlib as mpl\\nfrom sklearn.linear_model import Ridge\\nfrom sklearn.model_selection import GridSearchCV\\nimport sys\\nfrom scipy import signal as sg\\nimport lightgbm as lgb\\nfrom sklearn.ensemble import RandomForestClassifier\\nimport statsmodels.api as sm\\nimport tensorflow as tf\\nimport skimage\\nimport altair as alt\\nimport xgboost as xgb\\nimport cv2\\nimport pydot\\nimport statistics\\nimport gensim\\nimport pickle\\nimport re\\nimport pandas as pd\\nimport fastai\\nfrom sklearn.model_selection import cross_val_score\\nimport glob\\nfrom sklearn.linear_model import LogisticRegression\\nfrom sklearn import svm\\nimport os\\nfrom sklearn.preprocessing import LabelEncoder\\nimport matplotlib.pyplot as plt\\nfrom sklearn.model_selection import train_test_split\\nfrom sklearn import metrics\\nfrom sklearn.preprocessing import RobustScaler\\nimport seaborn as sns\\nimport bokeh\\nimport plotly.graph_objs as go\\nfrom sklearn.linear_model import LinearRegression\\nfrom sklearn.preprocessing import MinMaxScaler\\nimport plotly.express as px\\nimport imutils\\nfrom sklearn.linear_model import RidgeCV'); }\n",
              "    "
            ],
            "text/plain": [
              "<IPython.core.display.Javascript object>"
            ]
          },
          "metadata": {
            "tags": []
          }
        },
        {
          "output_type": "display_data",
          "data": {
            "application/javascript": [
              "\n",
              "        if (window._pyforest_update_imports_cell) { window._pyforest_update_imports_cell('from xlrd import open_workbook\\nimport spacy\\nfrom scipy import stats\\nimport torch\\nimport plotly as py\\nfrom sklearn.linear_model import LassoCV\\nimport fbprophet\\nfrom sklearn.ensemble import GradientBoostingRegressor\\nfrom sklearn.model_selection import RandomizedSearchCV\\nfrom openpyxl import load_workbook\\nfrom statsmodels.tsa.arima_model import ARIMA\\nfrom sklearn.linear_model import Lasso\\nfrom sklearn.ensemble import GradientBoostingClassifier\\nimport sklearn\\nfrom sklearn.ensemble import RandomForestRegressor\\nfrom sklearn.feature_extraction.text import CountVectorizer\\nimport tqdm\\nimport textblob\\nimport matplotlib as mpl\\nfrom sklearn.linear_model import Ridge\\nfrom sklearn.model_selection import GridSearchCV\\nimport sys\\nfrom scipy import signal as sg\\nimport lightgbm as lgb\\nfrom sklearn.ensemble import RandomForestClassifier\\nimport statsmodels.api as sm\\nimport tensorflow as tf\\nimport skimage\\nimport altair as alt\\nimport xgboost as xgb\\nimport cv2\\nimport pydot\\nimport statistics\\nimport gensim\\nimport pickle\\nimport re\\nimport pandas as pd\\nimport fastai\\nfrom sklearn.model_selection import cross_val_score\\nimport glob\\nfrom sklearn.linear_model import LogisticRegression\\nfrom sklearn import svm\\nimport os\\nfrom sklearn.preprocessing import LabelEncoder\\nimport matplotlib.pyplot as plt\\nfrom sklearn.model_selection import train_test_split\\nfrom sklearn import metrics\\nfrom sklearn.preprocessing import RobustScaler\\nimport seaborn as sns\\nimport bokeh\\nimport plotly.graph_objs as go\\nfrom sklearn.linear_model import LinearRegression\\nfrom sklearn.preprocessing import MinMaxScaler\\nimport plotly.express as px\\nimport imutils\\nfrom sklearn.linear_model import RidgeCV'); }\n",
              "    "
            ],
            "text/plain": [
              "<IPython.core.display.Javascript object>"
            ]
          },
          "metadata": {
            "tags": []
          }
        },
        {
          "output_type": "display_data",
          "data": {
            "application/javascript": [
              "\n",
              "        if (window._pyforest_update_imports_cell) { window._pyforest_update_imports_cell('from xlrd import open_workbook\\nimport spacy\\nfrom scipy import stats\\nimport torch\\nimport plotly as py\\nfrom sklearn.linear_model import LassoCV\\nimport fbprophet\\nfrom sklearn.ensemble import GradientBoostingRegressor\\nfrom sklearn.model_selection import RandomizedSearchCV\\nfrom openpyxl import load_workbook\\nfrom statsmodels.tsa.arima_model import ARIMA\\nfrom sklearn.linear_model import Lasso\\nfrom sklearn.ensemble import GradientBoostingClassifier\\nimport sklearn\\nfrom sklearn.ensemble import RandomForestRegressor\\nfrom sklearn.feature_extraction.text import CountVectorizer\\nimport tqdm\\nimport textblob\\nimport matplotlib as mpl\\nfrom sklearn.linear_model import Ridge\\nfrom sklearn.model_selection import GridSearchCV\\nimport sys\\nfrom scipy import signal as sg\\nimport lightgbm as lgb\\nfrom sklearn.ensemble import RandomForestClassifier\\nimport statsmodels.api as sm\\nimport tensorflow as tf\\nimport skimage\\nimport altair as alt\\nimport xgboost as xgb\\nimport cv2\\nimport pydot\\nimport statistics\\nimport gensim\\nimport pickle\\nimport re\\nimport pandas as pd\\nimport fastai\\nfrom sklearn.model_selection import cross_val_score\\nimport glob\\nfrom sklearn.linear_model import LogisticRegression\\nfrom sklearn import svm\\nimport os\\nfrom sklearn.preprocessing import LabelEncoder\\nimport matplotlib.pyplot as plt\\nfrom sklearn.model_selection import train_test_split\\nfrom sklearn import metrics\\nfrom sklearn.preprocessing import RobustScaler\\nimport seaborn as sns\\nimport bokeh\\nimport plotly.graph_objs as go\\nfrom sklearn.linear_model import LinearRegression\\nfrom sklearn.preprocessing import MinMaxScaler\\nimport plotly.express as px\\nimport imutils\\nfrom sklearn.linear_model import RidgeCV'); }\n",
              "    "
            ],
            "text/plain": [
              "<IPython.core.display.Javascript object>"
            ]
          },
          "metadata": {
            "tags": []
          }
        },
        {
          "output_type": "display_data",
          "data": {
            "application/javascript": [
              "\n",
              "        if (window._pyforest_update_imports_cell) { window._pyforest_update_imports_cell('from xlrd import open_workbook\\nimport spacy\\nfrom scipy import stats\\nimport torch\\nimport plotly as py\\nfrom sklearn.linear_model import LassoCV\\nimport fbprophet\\nfrom sklearn.ensemble import GradientBoostingRegressor\\nfrom sklearn.model_selection import RandomizedSearchCV\\nfrom openpyxl import load_workbook\\nfrom statsmodels.tsa.arima_model import ARIMA\\nfrom sklearn.linear_model import Lasso\\nfrom sklearn.ensemble import GradientBoostingClassifier\\nimport sklearn\\nfrom sklearn.ensemble import RandomForestRegressor\\nfrom sklearn.feature_extraction.text import CountVectorizer\\nimport tqdm\\nimport textblob\\nimport matplotlib as mpl\\nfrom sklearn.linear_model import Ridge\\nfrom sklearn.model_selection import GridSearchCV\\nimport sys\\nfrom scipy import signal as sg\\nimport lightgbm as lgb\\nfrom sklearn.ensemble import RandomForestClassifier\\nimport statsmodels.api as sm\\nimport tensorflow as tf\\nimport skimage\\nimport altair as alt\\nimport xgboost as xgb\\nimport cv2\\nimport pydot\\nimport statistics\\nimport gensim\\nimport pickle\\nimport re\\nimport pandas as pd\\nimport fastai\\nfrom sklearn.model_selection import cross_val_score\\nimport glob\\nfrom sklearn.linear_model import LogisticRegression\\nfrom sklearn import svm\\nimport os\\nfrom sklearn.preprocessing import LabelEncoder\\nimport matplotlib.pyplot as plt\\nfrom sklearn.model_selection import train_test_split\\nfrom sklearn import metrics\\nfrom sklearn.preprocessing import RobustScaler\\nimport seaborn as sns\\nimport bokeh\\nimport plotly.graph_objs as go\\nfrom sklearn.linear_model import LinearRegression\\nfrom sklearn.preprocessing import MinMaxScaler\\nimport plotly.express as px\\nimport imutils\\nfrom sklearn.linear_model import RidgeCV'); }\n",
              "    "
            ],
            "text/plain": [
              "<IPython.core.display.Javascript object>"
            ]
          },
          "metadata": {
            "tags": []
          }
        },
        {
          "output_type": "display_data",
          "data": {
            "application/javascript": [
              "\n",
              "        if (window._pyforest_update_imports_cell) { window._pyforest_update_imports_cell('from xlrd import open_workbook\\nimport spacy\\nfrom scipy import stats\\nimport torch\\nimport plotly as py\\nfrom sklearn.linear_model import LassoCV\\nimport fbprophet\\nfrom sklearn.ensemble import GradientBoostingRegressor\\nfrom sklearn.model_selection import RandomizedSearchCV\\nfrom openpyxl import load_workbook\\nfrom statsmodels.tsa.arima_model import ARIMA\\nfrom sklearn.linear_model import Lasso\\nfrom sklearn.ensemble import GradientBoostingClassifier\\nimport sklearn\\nfrom sklearn.ensemble import RandomForestRegressor\\nfrom sklearn.feature_extraction.text import CountVectorizer\\nimport tqdm\\nimport textblob\\nimport matplotlib as mpl\\nfrom sklearn.linear_model import Ridge\\nfrom sklearn.model_selection import GridSearchCV\\nimport sys\\nfrom scipy import signal as sg\\nimport lightgbm as lgb\\nfrom sklearn.ensemble import RandomForestClassifier\\nimport statsmodels.api as sm\\nimport tensorflow as tf\\nimport skimage\\nimport altair as alt\\nimport xgboost as xgb\\nimport cv2\\nimport pydot\\nimport statistics\\nimport gensim\\nimport pickle\\nimport re\\nimport pandas as pd\\nimport fastai\\nfrom sklearn.model_selection import cross_val_score\\nimport glob\\nfrom sklearn.linear_model import LogisticRegression\\nfrom sklearn import svm\\nimport os\\nfrom sklearn.preprocessing import LabelEncoder\\nimport matplotlib.pyplot as plt\\nfrom sklearn.model_selection import train_test_split\\nfrom sklearn import metrics\\nfrom sklearn.preprocessing import RobustScaler\\nimport seaborn as sns\\nimport bokeh\\nimport plotly.graph_objs as go\\nfrom sklearn.linear_model import LinearRegression\\nfrom sklearn.preprocessing import MinMaxScaler\\nimport plotly.express as px\\nimport imutils\\nfrom sklearn.linear_model import RidgeCV'); }\n",
              "    "
            ],
            "text/plain": [
              "<IPython.core.display.Javascript object>"
            ]
          },
          "metadata": {
            "tags": []
          }
        },
        {
          "output_type": "display_data",
          "data": {
            "application/javascript": [
              "\n",
              "        if (window._pyforest_update_imports_cell) { window._pyforest_update_imports_cell('from xlrd import open_workbook\\nimport spacy\\nfrom scipy import stats\\nimport torch\\nimport plotly as py\\nfrom sklearn.linear_model import LassoCV\\nimport fbprophet\\nfrom sklearn.ensemble import GradientBoostingRegressor\\nfrom sklearn.model_selection import RandomizedSearchCV\\nfrom openpyxl import load_workbook\\nfrom statsmodels.tsa.arima_model import ARIMA\\nfrom sklearn.linear_model import Lasso\\nfrom sklearn.ensemble import GradientBoostingClassifier\\nimport sklearn\\nfrom sklearn.ensemble import RandomForestRegressor\\nfrom sklearn.feature_extraction.text import CountVectorizer\\nimport tqdm\\nimport textblob\\nimport matplotlib as mpl\\nfrom sklearn.linear_model import Ridge\\nfrom sklearn.model_selection import GridSearchCV\\nimport sys\\nfrom scipy import signal as sg\\nimport lightgbm as lgb\\nfrom sklearn.ensemble import RandomForestClassifier\\nimport statsmodels.api as sm\\nimport tensorflow as tf\\nimport skimage\\nimport altair as alt\\nimport xgboost as xgb\\nimport cv2\\nimport pydot\\nimport statistics\\nimport gensim\\nimport pickle\\nimport re\\nimport pandas as pd\\nimport fastai\\nfrom sklearn.model_selection import cross_val_score\\nimport glob\\nfrom sklearn.linear_model import LogisticRegression\\nfrom sklearn import svm\\nimport os\\nfrom sklearn.preprocessing import LabelEncoder\\nimport matplotlib.pyplot as plt\\nfrom sklearn.model_selection import train_test_split\\nfrom sklearn import metrics\\nfrom sklearn.preprocessing import RobustScaler\\nimport seaborn as sns\\nimport bokeh\\nimport plotly.graph_objs as go\\nfrom sklearn.linear_model import LinearRegression\\nfrom sklearn.preprocessing import MinMaxScaler\\nimport plotly.express as px\\nimport imutils\\nfrom sklearn.linear_model import RidgeCV'); }\n",
              "    "
            ],
            "text/plain": [
              "<IPython.core.display.Javascript object>"
            ]
          },
          "metadata": {
            "tags": []
          }
        },
        {
          "output_type": "display_data",
          "data": {
            "application/javascript": [
              "\n",
              "        if (window._pyforest_update_imports_cell) { window._pyforest_update_imports_cell('from xlrd import open_workbook\\nimport spacy\\nfrom scipy import stats\\nimport torch\\nimport plotly as py\\nfrom sklearn.linear_model import LassoCV\\nimport fbprophet\\nfrom sklearn.ensemble import GradientBoostingRegressor\\nfrom sklearn.model_selection import RandomizedSearchCV\\nfrom openpyxl import load_workbook\\nfrom statsmodels.tsa.arima_model import ARIMA\\nfrom sklearn.linear_model import Lasso\\nfrom sklearn.ensemble import GradientBoostingClassifier\\nimport sklearn\\nfrom sklearn.ensemble import RandomForestRegressor\\nfrom sklearn.feature_extraction.text import CountVectorizer\\nimport tqdm\\nimport textblob\\nimport matplotlib as mpl\\nfrom sklearn.linear_model import Ridge\\nfrom sklearn.model_selection import GridSearchCV\\nimport sys\\nfrom scipy import signal as sg\\nimport lightgbm as lgb\\nfrom sklearn.ensemble import RandomForestClassifier\\nimport statsmodels.api as sm\\nimport tensorflow as tf\\nimport skimage\\nimport altair as alt\\nimport xgboost as xgb\\nimport cv2\\nimport pydot\\nimport statistics\\nimport gensim\\nimport pickle\\nimport re\\nimport pandas as pd\\nimport fastai\\nfrom sklearn.model_selection import cross_val_score\\nimport glob\\nfrom sklearn.linear_model import LogisticRegression\\nfrom sklearn import svm\\nimport os\\nfrom sklearn.preprocessing import LabelEncoder\\nimport matplotlib.pyplot as plt\\nfrom sklearn.model_selection import train_test_split\\nfrom sklearn import metrics\\nfrom sklearn.preprocessing import RobustScaler\\nimport seaborn as sns\\nimport bokeh\\nimport plotly.graph_objs as go\\nfrom sklearn.linear_model import LinearRegression\\nfrom sklearn.preprocessing import MinMaxScaler\\nimport plotly.express as px\\nimport imutils\\nfrom sklearn.linear_model import RidgeCV'); }\n",
              "    "
            ],
            "text/plain": [
              "<IPython.core.display.Javascript object>"
            ]
          },
          "metadata": {
            "tags": []
          }
        },
        {
          "output_type": "display_data",
          "data": {
            "application/javascript": [
              "\n",
              "        if (window._pyforest_update_imports_cell) { window._pyforest_update_imports_cell('from xlrd import open_workbook\\nimport spacy\\nfrom scipy import stats\\nimport torch\\nimport plotly as py\\nfrom sklearn.linear_model import LassoCV\\nimport fbprophet\\nfrom sklearn.ensemble import GradientBoostingRegressor\\nfrom sklearn.model_selection import RandomizedSearchCV\\nfrom openpyxl import load_workbook\\nfrom statsmodels.tsa.arima_model import ARIMA\\nfrom sklearn.linear_model import Lasso\\nfrom sklearn.ensemble import GradientBoostingClassifier\\nimport sklearn\\nfrom sklearn.ensemble import RandomForestRegressor\\nfrom sklearn.feature_extraction.text import CountVectorizer\\nimport tqdm\\nimport textblob\\nimport matplotlib as mpl\\nfrom sklearn.linear_model import Ridge\\nfrom sklearn.model_selection import GridSearchCV\\nimport sys\\nfrom scipy import signal as sg\\nimport lightgbm as lgb\\nfrom sklearn.ensemble import RandomForestClassifier\\nimport statsmodels.api as sm\\nimport tensorflow as tf\\nimport skimage\\nimport altair as alt\\nimport xgboost as xgb\\nimport cv2\\nimport pydot\\nimport statistics\\nimport gensim\\nimport pickle\\nimport re\\nimport pandas as pd\\nimport fastai\\nfrom sklearn.model_selection import cross_val_score\\nimport glob\\nfrom sklearn.linear_model import LogisticRegression\\nfrom sklearn import svm\\nimport os\\nfrom sklearn.preprocessing import LabelEncoder\\nimport matplotlib.pyplot as plt\\nfrom sklearn.model_selection import train_test_split\\nfrom sklearn import metrics\\nfrom sklearn.preprocessing import RobustScaler\\nimport seaborn as sns\\nimport bokeh\\nimport plotly.graph_objs as go\\nfrom sklearn.linear_model import LinearRegression\\nfrom sklearn.preprocessing import MinMaxScaler\\nimport plotly.express as px\\nimport imutils\\nfrom sklearn.linear_model import RidgeCV'); }\n",
              "    "
            ],
            "text/plain": [
              "<IPython.core.display.Javascript object>"
            ]
          },
          "metadata": {
            "tags": []
          }
        },
        {
          "output_type": "display_data",
          "data": {
            "application/javascript": [
              "\n",
              "        if (window._pyforest_update_imports_cell) { window._pyforest_update_imports_cell('from xlrd import open_workbook\\nimport spacy\\nfrom scipy import stats\\nimport torch\\nimport plotly as py\\nfrom sklearn.linear_model import LassoCV\\nimport fbprophet\\nfrom sklearn.ensemble import GradientBoostingRegressor\\nfrom sklearn.model_selection import RandomizedSearchCV\\nfrom openpyxl import load_workbook\\nfrom statsmodels.tsa.arima_model import ARIMA\\nfrom sklearn.linear_model import Lasso\\nfrom sklearn.ensemble import GradientBoostingClassifier\\nimport sklearn\\nfrom sklearn.ensemble import RandomForestRegressor\\nfrom sklearn.feature_extraction.text import CountVectorizer\\nimport tqdm\\nimport textblob\\nimport matplotlib as mpl\\nfrom sklearn.linear_model import Ridge\\nfrom sklearn.model_selection import GridSearchCV\\nimport sys\\nfrom scipy import signal as sg\\nimport lightgbm as lgb\\nfrom sklearn.ensemble import RandomForestClassifier\\nimport statsmodels.api as sm\\nimport tensorflow as tf\\nimport skimage\\nimport altair as alt\\nimport xgboost as xgb\\nimport cv2\\nimport pydot\\nimport statistics\\nimport gensim\\nimport pickle\\nimport re\\nimport pandas as pd\\nimport fastai\\nfrom sklearn.model_selection import cross_val_score\\nimport glob\\nfrom sklearn.linear_model import LogisticRegression\\nfrom sklearn import svm\\nimport os\\nfrom sklearn.preprocessing import LabelEncoder\\nimport matplotlib.pyplot as plt\\nfrom sklearn.model_selection import train_test_split\\nfrom sklearn import metrics\\nfrom sklearn.preprocessing import RobustScaler\\nimport seaborn as sns\\nimport bokeh\\nimport plotly.graph_objs as go\\nfrom sklearn.linear_model import LinearRegression\\nfrom sklearn.preprocessing import MinMaxScaler\\nimport plotly.express as px\\nimport imutils\\nfrom sklearn.linear_model import RidgeCV'); }\n",
              "    "
            ],
            "text/plain": [
              "<IPython.core.display.Javascript object>"
            ]
          },
          "metadata": {
            "tags": []
          }
        },
        {
          "output_type": "display_data",
          "data": {
            "application/javascript": [
              "\n",
              "        if (window._pyforest_update_imports_cell) { window._pyforest_update_imports_cell('from xlrd import open_workbook\\nimport spacy\\nfrom scipy import stats\\nimport torch\\nimport plotly as py\\nfrom sklearn.linear_model import LassoCV\\nimport fbprophet\\nfrom sklearn.ensemble import GradientBoostingRegressor\\nfrom sklearn.model_selection import RandomizedSearchCV\\nfrom openpyxl import load_workbook\\nfrom statsmodels.tsa.arima_model import ARIMA\\nfrom sklearn.linear_model import Lasso\\nfrom sklearn.ensemble import GradientBoostingClassifier\\nimport sklearn\\nfrom sklearn.ensemble import RandomForestRegressor\\nfrom sklearn.feature_extraction.text import CountVectorizer\\nimport tqdm\\nimport textblob\\nimport matplotlib as mpl\\nfrom sklearn.linear_model import Ridge\\nfrom sklearn.model_selection import GridSearchCV\\nimport sys\\nfrom scipy import signal as sg\\nimport lightgbm as lgb\\nfrom sklearn.ensemble import RandomForestClassifier\\nimport statsmodels.api as sm\\nimport tensorflow as tf\\nimport skimage\\nimport altair as alt\\nimport xgboost as xgb\\nimport cv2\\nimport pydot\\nimport statistics\\nimport gensim\\nimport pickle\\nimport re\\nimport pandas as pd\\nimport fastai\\nfrom sklearn.model_selection import cross_val_score\\nimport glob\\nfrom sklearn.linear_model import LogisticRegression\\nfrom sklearn import svm\\nimport os\\nfrom sklearn.preprocessing import LabelEncoder\\nimport matplotlib.pyplot as plt\\nfrom sklearn.model_selection import train_test_split\\nfrom sklearn import metrics\\nfrom sklearn.preprocessing import RobustScaler\\nimport seaborn as sns\\nimport bokeh\\nimport plotly.graph_objs as go\\nfrom sklearn.linear_model import LinearRegression\\nfrom sklearn.preprocessing import MinMaxScaler\\nimport plotly.express as px\\nimport imutils\\nfrom sklearn.linear_model import RidgeCV'); }\n",
              "    "
            ],
            "text/plain": [
              "<IPython.core.display.Javascript object>"
            ]
          },
          "metadata": {
            "tags": []
          }
        },
        {
          "output_type": "execute_result",
          "data": {
            "text/plain": [
              "<matplotlib.axes._subplots.AxesSubplot at 0x7f26f6014290>"
            ]
          },
          "metadata": {
            "tags": []
          },
          "execution_count": 403
        },
        {
          "output_type": "display_data",
          "data": {
            "image/png": "[encoded data removed]",
            "text/plain": [
              "<Figure size 1152x1152 with 9 Axes>"
            ]
          },
          "metadata": {
            "tags": [],
            "needs_background": "light"
          }
        }
      ]
    },
    {
      "cell_type": "code",
      "metadata": {
        "colab": {
          "base_uri": "https://localhost:8080/",
          "height": 503
        },
        "id": "wkOmTotn-X4d",
        "outputId": "40c5d066-fa85-465f-a84c-261b8cc030f4"
      },
      "source": [
        "df.boxplot(figsize=(15,8))"
      ],
      "execution_count": 404,
      "outputs": [
        {
          "output_type": "execute_result",
          "data": {
            "text/plain": [
              "<matplotlib.axes._subplots.AxesSubplot at 0x7f26f61b9710>"
            ]
          },
          "metadata": {
            "tags": []
          },
          "execution_count": 404
        },
        {
          "output_type": "display_data",
          "data": {
            "image/png": "[encoded data removed]",
            "text/plain": [
              "<Figure size 1080x576 with 1 Axes>"
            ]
          },
          "metadata": {
            "tags": [],
            "needs_background": "light"
          }
        }
      ]
    },
    {
      "cell_type": "markdown",
      "metadata": {
        "id": "jU2N8zc0LzzE"
      },
      "source": [
        "*Since we have found outliers present and that may effect the actual outcome , so we are going to remove to minimalize the outlier by considering the median value of there respective column by considering the quantile*"
      ]
    },
    {
      "cell_type": "code",
      "metadata": {
        "id": "yYKP6WgMBByv"
      },
      "source": [
        "for cols in df.columns[:-1]:\n",
        "  Q1=df[cols].quantile(0.25)\n",
        "  Q3=df[cols].quantile(0.75)\n",
        "  iqr= Q3-Q1\n",
        "\n",
        "  low= Q1-1.5*iqr\n",
        "  high= Q3+1.5*iqr\n",
        "  df.loc[(df[cols]<low) | (df[cols]>high),cols] = df[cols].median()"
      ],
      "execution_count": 405,
      "outputs": []
    },
    {
      "cell_type": "code",
      "metadata": {
        "colab": {
          "base_uri": "https://localhost:8080/",
          "height": 503
        },
        "id": "QmHEPGW_M-jq",
        "outputId": "1db2fa0a-f2b8-43c8-fdb4-fb55f07e8aa6"
      },
      "source": [
        "df.boxplot(figsize=(15,8))"
      ],
      "execution_count": 406,
      "outputs": [
        {
          "output_type": "execute_result",
          "data": {
            "text/plain": [
              "<matplotlib.axes._subplots.AxesSubplot at 0x7f26f6848910>"
            ]
          },
          "metadata": {
            "tags": []
          },
          "execution_count": 406
        },
        {
          "output_type": "display_data",
          "data": {
            "image/png": "[encoded data removed]",
            "text/plain": [
              "<Figure size 1080x576 with 1 Axes>"
            ]
          },
          "metadata": {
            "tags": [],
            "needs_background": "light"
          }
        }
      ]
    },
    {
      "cell_type": "markdown",
      "metadata": {
        "id": "TfcBcXG5NJUF"
      },
      "source": [
        "*now we can see that the outliers are minimized *"
      ]
    },
    {
      "cell_type": "code",
      "metadata": {
        "id": "AgPJfzi5NHcw"
      },
      "source": [
        ""
      ],
      "execution_count": 406,
      "outputs": []
    },
    {
      "cell_type": "markdown",
      "metadata": {
        "id": "TJOLlcrQNbbh"
      },
      "source": [
        "# Model Training and finding the best one"
      ]
    },
    {
      "cell_type": "code",
      "metadata": {
        "colab": {
          "base_uri": "https://localhost:8080/",
          "height": 203
        },
        "id": "z06ZsYM7Nh-6",
        "outputId": "f3fdeb7f-a001-45df-a067-193d013fb80b"
      },
      "source": [
        "df.head()"
      ],
      "execution_count": 407,
      "outputs": [
        {
          "output_type": "execute_result",
          "data": {
            "text/html": [
              "<div>\n",
              "<style scoped>\n",
              "    .dataframe tbody tr th:only-of-type {\n",
              "        vertical-align: middle;\n",
              "    }\n",
              "\n",
              "    .dataframe tbody tr th {\n",
              "        vertical-align: top;\n",
              "    }\n",
              "\n",
              "    .dataframe thead th {\n",
              "        text-align: right;\n",
              "    }\n",
              "</style>\n",
              "<table border=\"1\" class=\"dataframe\">\n",
              "  <thead>\n",
              "    <tr style=\"text-align: right;\">\n",
              "      <th></th>\n",
              "      <th>cement</th>\n",
              "      <th>slag</th>\n",
              "      <th>ash</th>\n",
              "      <th>water</th>\n",
              "      <th>superplastic</th>\n",
              "      <th>coarseagg</th>\n",
              "      <th>fineagg</th>\n",
              "      <th>age</th>\n",
              "      <th>strength</th>\n",
              "    </tr>\n",
              "  </thead>\n",
              "  <tbody>\n",
              "    <tr>\n",
              "      <th>0</th>\n",
              "      <td>540.0</td>\n",
              "      <td>0.0</td>\n",
              "      <td>0.0</td>\n",
              "      <td>162.0</td>\n",
              "      <td>2.5</td>\n",
              "      <td>1040.0</td>\n",
              "      <td>676.0</td>\n",
              "      <td>28</td>\n",
              "      <td>79.986111</td>\n",
              "    </tr>\n",
              "    <tr>\n",
              "      <th>1</th>\n",
              "      <td>540.0</td>\n",
              "      <td>0.0</td>\n",
              "      <td>0.0</td>\n",
              "      <td>162.0</td>\n",
              "      <td>2.5</td>\n",
              "      <td>1055.0</td>\n",
              "      <td>676.0</td>\n",
              "      <td>28</td>\n",
              "      <td>61.887366</td>\n",
              "    </tr>\n",
              "    <tr>\n",
              "      <th>2</th>\n",
              "      <td>332.5</td>\n",
              "      <td>142.5</td>\n",
              "      <td>0.0</td>\n",
              "      <td>228.0</td>\n",
              "      <td>0.0</td>\n",
              "      <td>932.0</td>\n",
              "      <td>594.0</td>\n",
              "      <td>28</td>\n",
              "      <td>40.269535</td>\n",
              "    </tr>\n",
              "    <tr>\n",
              "      <th>3</th>\n",
              "      <td>332.5</td>\n",
              "      <td>142.5</td>\n",
              "      <td>0.0</td>\n",
              "      <td>228.0</td>\n",
              "      <td>0.0</td>\n",
              "      <td>932.0</td>\n",
              "      <td>594.0</td>\n",
              "      <td>28</td>\n",
              "      <td>41.052780</td>\n",
              "    </tr>\n",
              "    <tr>\n",
              "      <th>4</th>\n",
              "      <td>198.6</td>\n",
              "      <td>132.4</td>\n",
              "      <td>0.0</td>\n",
              "      <td>192.0</td>\n",
              "      <td>0.0</td>\n",
              "      <td>978.4</td>\n",
              "      <td>825.5</td>\n",
              "      <td>28</td>\n",
              "      <td>44.296075</td>\n",
              "    </tr>\n",
              "  </tbody>\n",
              "</table>\n",
              "</div>"
            ],
            "text/plain": [
              "   cement   slag  ash  water  superplastic  coarseagg  fineagg  age   strength\n",
              "0   540.0    0.0  0.0  162.0           2.5     1040.0    676.0   28  79.986111\n",
              "1   540.0    0.0  0.0  162.0           2.5     1055.0    676.0   28  61.887366\n",
              "2   332.5  142.5  0.0  228.0           0.0      932.0    594.0   28  40.269535\n",
              "3   332.5  142.5  0.0  228.0           0.0      932.0    594.0   28  41.052780\n",
              "4   198.6  132.4  0.0  192.0           0.0      978.4    825.5   28  44.296075"
            ]
          },
          "metadata": {
            "tags": []
          },
          "execution_count": 407
        }
      ]
    },
    {
      "cell_type": "markdown",
      "metadata": {
        "id": "E80Y23S9OIij"
      },
      "source": [
        "Now we are splitting the data in Dependent and independent varaibles as x and y "
      ]
    },
    {
      "cell_type": "code",
      "metadata": {
        "id": "IBMZZvQxOGfu"
      },
      "source": [
        "x=df.drop('strength',axis=1)\n",
        "y=df['strength']"
      ],
      "execution_count": 408,
      "outputs": []
    },
    {
      "cell_type": "code",
      "metadata": {
        "colab": {
          "base_uri": "https://localhost:8080/"
        },
        "id": "5KAhD4DfQPlo",
        "outputId": "34cf2199-de6d-4a10-b320-405c2ca2bb55"
      },
      "source": [
        "y"
      ],
      "execution_count": 409,
      "outputs": [
        {
          "output_type": "execute_result",
          "data": {
            "text/plain": [
              "0       79.986111\n",
              "1       61.887366\n",
              "2       40.269535\n",
              "3       41.052780\n",
              "4       44.296075\n",
              "          ...    \n",
              "1025    44.284354\n",
              "1026    31.178794\n",
              "1027    23.696601\n",
              "1028    32.768036\n",
              "1029    32.401235\n",
              "Name: strength, Length: 1030, dtype: float64"
            ]
          },
          "metadata": {
            "tags": []
          },
          "execution_count": 409
        }
      ]
    },
    {
      "cell_type": "code",
      "metadata": {
        "colab": {
          "base_uri": "https://localhost:8080/",
          "height": 417
        },
        "id": "FKbXuZT7QQEB",
        "outputId": "5ae7af19-cbec-48ac-9aa9-286a69cbd36b"
      },
      "source": [
        "x"
      ],
      "execution_count": 410,
      "outputs": [
        {
          "output_type": "execute_result",
          "data": {
            "text/html": [
              "<div>\n",
              "<style scoped>\n",
              "    .dataframe tbody tr th:only-of-type {\n",
              "        vertical-align: middle;\n",
              "    }\n",
              "\n",
              "    .dataframe tbody tr th {\n",
              "        vertical-align: top;\n",
              "    }\n",
              "\n",
              "    .dataframe thead th {\n",
              "        text-align: right;\n",
              "    }\n",
              "</style>\n",
              "<table border=\"1\" class=\"dataframe\">\n",
              "  <thead>\n",
              "    <tr style=\"text-align: right;\">\n",
              "      <th></th>\n",
              "      <th>cement</th>\n",
              "      <th>slag</th>\n",
              "      <th>ash</th>\n",
              "      <th>water</th>\n",
              "      <th>superplastic</th>\n",
              "      <th>coarseagg</th>\n",
              "      <th>fineagg</th>\n",
              "      <th>age</th>\n",
              "    </tr>\n",
              "  </thead>\n",
              "  <tbody>\n",
              "    <tr>\n",
              "      <th>0</th>\n",
              "      <td>540.0</td>\n",
              "      <td>0.0</td>\n",
              "      <td>0.0</td>\n",
              "      <td>162.0</td>\n",
              "      <td>2.5</td>\n",
              "      <td>1040.0</td>\n",
              "      <td>676.0</td>\n",
              "      <td>28</td>\n",
              "    </tr>\n",
              "    <tr>\n",
              "      <th>1</th>\n",
              "      <td>540.0</td>\n",
              "      <td>0.0</td>\n",
              "      <td>0.0</td>\n",
              "      <td>162.0</td>\n",
              "      <td>2.5</td>\n",
              "      <td>1055.0</td>\n",
              "      <td>676.0</td>\n",
              "      <td>28</td>\n",
              "    </tr>\n",
              "    <tr>\n",
              "      <th>2</th>\n",
              "      <td>332.5</td>\n",
              "      <td>142.5</td>\n",
              "      <td>0.0</td>\n",
              "      <td>228.0</td>\n",
              "      <td>0.0</td>\n",
              "      <td>932.0</td>\n",
              "      <td>594.0</td>\n",
              "      <td>28</td>\n",
              "    </tr>\n",
              "    <tr>\n",
              "      <th>3</th>\n",
              "      <td>332.5</td>\n",
              "      <td>142.5</td>\n",
              "      <td>0.0</td>\n",
              "      <td>228.0</td>\n",
              "      <td>0.0</td>\n",
              "      <td>932.0</td>\n",
              "      <td>594.0</td>\n",
              "      <td>28</td>\n",
              "    </tr>\n",
              "    <tr>\n",
              "      <th>4</th>\n",
              "      <td>198.6</td>\n",
              "      <td>132.4</td>\n",
              "      <td>0.0</td>\n",
              "      <td>192.0</td>\n",
              "      <td>0.0</td>\n",
              "      <td>978.4</td>\n",
              "      <td>825.5</td>\n",
              "      <td>28</td>\n",
              "    </tr>\n",
              "    <tr>\n",
              "      <th>...</th>\n",
              "      <td>...</td>\n",
              "      <td>...</td>\n",
              "      <td>...</td>\n",
              "      <td>...</td>\n",
              "      <td>...</td>\n",
              "      <td>...</td>\n",
              "      <td>...</td>\n",
              "      <td>...</td>\n",
              "    </tr>\n",
              "    <tr>\n",
              "      <th>1025</th>\n",
              "      <td>276.4</td>\n",
              "      <td>116.0</td>\n",
              "      <td>90.3</td>\n",
              "      <td>179.6</td>\n",
              "      <td>8.9</td>\n",
              "      <td>870.1</td>\n",
              "      <td>768.3</td>\n",
              "      <td>28</td>\n",
              "    </tr>\n",
              "    <tr>\n",
              "      <th>1026</th>\n",
              "      <td>322.2</td>\n",
              "      <td>0.0</td>\n",
              "      <td>115.6</td>\n",
              "      <td>196.0</td>\n",
              "      <td>10.4</td>\n",
              "      <td>817.9</td>\n",
              "      <td>813.4</td>\n",
              "      <td>28</td>\n",
              "    </tr>\n",
              "    <tr>\n",
              "      <th>1027</th>\n",
              "      <td>148.5</td>\n",
              "      <td>139.4</td>\n",
              "      <td>108.6</td>\n",
              "      <td>192.7</td>\n",
              "      <td>6.1</td>\n",
              "      <td>892.4</td>\n",
              "      <td>780.0</td>\n",
              "      <td>28</td>\n",
              "    </tr>\n",
              "    <tr>\n",
              "      <th>1028</th>\n",
              "      <td>159.1</td>\n",
              "      <td>186.7</td>\n",
              "      <td>0.0</td>\n",
              "      <td>175.6</td>\n",
              "      <td>11.3</td>\n",
              "      <td>989.6</td>\n",
              "      <td>788.9</td>\n",
              "      <td>28</td>\n",
              "    </tr>\n",
              "    <tr>\n",
              "      <th>1029</th>\n",
              "      <td>260.9</td>\n",
              "      <td>100.5</td>\n",
              "      <td>78.3</td>\n",
              "      <td>200.6</td>\n",
              "      <td>8.6</td>\n",
              "      <td>864.5</td>\n",
              "      <td>761.5</td>\n",
              "      <td>28</td>\n",
              "    </tr>\n",
              "  </tbody>\n",
              "</table>\n",
              "<p>1030 rows × 8 columns</p>\n",
              "</div>"
            ],
            "text/plain": [
              "      cement   slag    ash  water  superplastic  coarseagg  fineagg  age\n",
              "0      540.0    0.0    0.0  162.0           2.5     1040.0    676.0   28\n",
              "1      540.0    0.0    0.0  162.0           2.5     1055.0    676.0   28\n",
              "2      332.5  142.5    0.0  228.0           0.0      932.0    594.0   28\n",
              "3      332.5  142.5    0.0  228.0           0.0      932.0    594.0   28\n",
              "4      198.6  132.4    0.0  192.0           0.0      978.4    825.5   28\n",
              "...      ...    ...    ...    ...           ...        ...      ...  ...\n",
              "1025   276.4  116.0   90.3  179.6           8.9      870.1    768.3   28\n",
              "1026   322.2    0.0  115.6  196.0          10.4      817.9    813.4   28\n",
              "1027   148.5  139.4  108.6  192.7           6.1      892.4    780.0   28\n",
              "1028   159.1  186.7    0.0  175.6          11.3      989.6    788.9   28\n",
              "1029   260.9  100.5   78.3  200.6           8.6      864.5    761.5   28\n",
              "\n",
              "[1030 rows x 8 columns]"
            ]
          },
          "metadata": {
            "tags": []
          },
          "execution_count": 410
        }
      ]
    },
    {
      "cell_type": "code",
      "metadata": {
        "colab": {
          "base_uri": "https://localhost:8080/",
          "height": 17
        },
        "id": "7MAHJL-iQmWC",
        "outputId": "f425ea27-08bb-418c-c426-d73e35948a2c"
      },
      "source": [
        "from scipy.stats import zscore\n",
        "xscaled = x.apply(zscore)\n",
        "xscaled_df=pd.DataFrame(xscaled,columns=df.columns)"
      ],
      "execution_count": 411,
      "outputs": [
        {
          "output_type": "display_data",
          "data": {
            "application/javascript": [
              "\n",
              "        if (window._pyforest_update_imports_cell) { window._pyforest_update_imports_cell('from xlrd import open_workbook\\nimport spacy\\nfrom scipy import stats\\nimport torch\\nimport plotly as py\\nfrom sklearn.linear_model import LassoCV\\nimport fbprophet\\nfrom sklearn.ensemble import GradientBoostingRegressor\\nfrom sklearn.model_selection import RandomizedSearchCV\\nfrom openpyxl import load_workbook\\nfrom statsmodels.tsa.arima_model import ARIMA\\nfrom sklearn.linear_model import Lasso\\nfrom sklearn.ensemble import GradientBoostingClassifier\\nimport sklearn\\nfrom sklearn.ensemble import RandomForestRegressor\\nfrom sklearn.feature_extraction.text import CountVectorizer\\nimport tqdm\\nimport textblob\\nimport matplotlib as mpl\\nfrom sklearn.linear_model import Ridge\\nfrom sklearn.model_selection import GridSearchCV\\nimport sys\\nfrom scipy import signal as sg\\nimport lightgbm as lgb\\nfrom sklearn.ensemble import RandomForestClassifier\\nimport statsmodels.api as sm\\nimport tensorflow as tf\\nimport skimage\\nimport altair as alt\\nimport xgboost as xgb\\nimport cv2\\nimport pydot\\nimport statistics\\nimport gensim\\nimport pickle\\nimport re\\nimport pandas as pd\\nimport fastai\\nfrom sklearn.model_selection import cross_val_score\\nimport glob\\nfrom sklearn.linear_model import LogisticRegression\\nfrom sklearn import svm\\nimport os\\nfrom sklearn.preprocessing import LabelEncoder\\nimport matplotlib.pyplot as plt\\nfrom sklearn.model_selection import train_test_split\\nfrom sklearn import metrics\\nfrom sklearn.preprocessing import RobustScaler\\nimport seaborn as sns\\nimport bokeh\\nimport plotly.graph_objs as go\\nfrom sklearn.linear_model import LinearRegression\\nfrom sklearn.preprocessing import MinMaxScaler\\nimport plotly.express as px\\nimport imutils\\nfrom sklearn.linear_model import RidgeCV'); }\n",
              "    "
            ],
            "text/plain": [
              "<IPython.core.display.Javascript object>"
            ]
          },
          "metadata": {
            "tags": []
          }
        }
      ]
    },
    {
      "cell_type": "code",
      "metadata": {
        "colab": {
          "base_uri": "https://localhost:8080/",
          "height": 17
        },
        "id": "PXP7ARIaRbUd",
        "outputId": "fca06e78-2bc7-460d-abd6-4621fc93535f"
      },
      "source": [
        "x_train,x_test,y_train,y_test =train_test_split(xscaled,y,test_size=0.3,random_state=1) "
      ],
      "execution_count": 412,
      "outputs": [
        {
          "output_type": "display_data",
          "data": {
            "application/javascript": [
              "\n",
              "        if (window._pyforest_update_imports_cell) { window._pyforest_update_imports_cell('from xlrd import open_workbook\\nimport spacy\\nfrom scipy import stats\\nimport torch\\nimport plotly as py\\nfrom sklearn.linear_model import LassoCV\\nimport fbprophet\\nfrom sklearn.ensemble import GradientBoostingRegressor\\nfrom sklearn.model_selection import RandomizedSearchCV\\nfrom openpyxl import load_workbook\\nfrom statsmodels.tsa.arima_model import ARIMA\\nfrom sklearn.linear_model import Lasso\\nfrom sklearn.ensemble import GradientBoostingClassifier\\nimport sklearn\\nfrom sklearn.ensemble import RandomForestRegressor\\nfrom sklearn.feature_extraction.text import CountVectorizer\\nimport tqdm\\nimport textblob\\nimport matplotlib as mpl\\nfrom sklearn.linear_model import Ridge\\nfrom sklearn.model_selection import GridSearchCV\\nimport sys\\nfrom scipy import signal as sg\\nimport lightgbm as lgb\\nfrom sklearn.ensemble import RandomForestClassifier\\nimport statsmodels.api as sm\\nimport tensorflow as tf\\nimport skimage\\nimport altair as alt\\nimport xgboost as xgb\\nimport cv2\\nimport pydot\\nimport statistics\\nimport gensim\\nimport pickle\\nimport re\\nimport pandas as pd\\nimport fastai\\nfrom sklearn.model_selection import cross_val_score\\nimport glob\\nfrom sklearn.linear_model import LogisticRegression\\nfrom sklearn import svm\\nimport os\\nfrom sklearn.preprocessing import LabelEncoder\\nimport matplotlib.pyplot as plt\\nfrom sklearn.model_selection import train_test_split\\nfrom sklearn import metrics\\nfrom sklearn.preprocessing import RobustScaler\\nimport seaborn as sns\\nimport bokeh\\nimport plotly.graph_objs as go\\nfrom sklearn.linear_model import LinearRegression\\nfrom sklearn.preprocessing import MinMaxScaler\\nimport plotly.express as px\\nimport imutils\\nfrom sklearn.linear_model import RidgeCV'); }\n",
              "    "
            ],
            "text/plain": [
              "<IPython.core.display.Javascript object>"
            ]
          },
          "metadata": {
            "tags": []
          }
        }
      ]
    },
    {
      "cell_type": "markdown",
      "metadata": {
        "id": "tdpCNdCtUTJT"
      },
      "source": [
        "**Multilinear regression**"
      ]
    },
    {
      "cell_type": "code",
      "metadata": {
        "colab": {
          "base_uri": "https://localhost:8080/",
          "height": 50
        },
        "id": "5JZxznYfUSwc",
        "outputId": "239ebdd6-2241-4496-91d6-21300d6632bf"
      },
      "source": [
        "model=LinearRegression()\n",
        "model.fit(x_train,y_train)\n",
        "ML_pred= model.predict(x_test)\n",
        "# ML_train_score=model.score(x_train,y_train)\n",
        "# ML_test_score=model.score(x_test,y_test)\n",
        "# print(\"Multi Linear Regression Training Score = \",ML_train_score)\n",
        "# print(\"Multi Linear Regression Test Score = \",ML_test_score)\n",
        "ML_accuracy=metrics.r2_score(y_test,ML_pred)\n",
        "print(\"Multi Linear Regression accuracy = \",accuracy)\n",
        "MLR_Mean=metrics.mean_squared_error(y_test,ML_pred)\n",
        "print(\"Multi Linear regression mean square error =  \",MLR_Mean)\n"
      ],
      "execution_count": 413,
      "outputs": [
        {
          "output_type": "display_data",
          "data": {
            "application/javascript": [
              "\n",
              "        if (window._pyforest_update_imports_cell) { window._pyforest_update_imports_cell('from xlrd import open_workbook\\nimport spacy\\nfrom scipy import stats\\nimport torch\\nimport plotly as py\\nfrom sklearn.linear_model import LassoCV\\nimport fbprophet\\nfrom sklearn.ensemble import GradientBoostingRegressor\\nfrom sklearn.model_selection import RandomizedSearchCV\\nfrom openpyxl import load_workbook\\nfrom statsmodels.tsa.arima_model import ARIMA\\nfrom sklearn.linear_model import Lasso\\nfrom sklearn.ensemble import GradientBoostingClassifier\\nimport sklearn\\nfrom sklearn.ensemble import RandomForestRegressor\\nfrom sklearn.feature_extraction.text import CountVectorizer\\nimport tqdm\\nimport textblob\\nimport matplotlib as mpl\\nfrom sklearn.linear_model import Ridge\\nfrom sklearn.model_selection import GridSearchCV\\nimport sys\\nfrom scipy import signal as sg\\nimport lightgbm as lgb\\nfrom sklearn.ensemble import RandomForestClassifier\\nimport statsmodels.api as sm\\nimport tensorflow as tf\\nimport skimage\\nimport altair as alt\\nimport xgboost as xgb\\nimport cv2\\nimport pydot\\nimport statistics\\nimport gensim\\nimport pickle\\nimport re\\nimport pandas as pd\\nimport fastai\\nfrom sklearn.model_selection import cross_val_score\\nimport glob\\nfrom sklearn.linear_model import LogisticRegression\\nfrom sklearn import svm\\nimport os\\nfrom sklearn.preprocessing import LabelEncoder\\nimport matplotlib.pyplot as plt\\nfrom sklearn.model_selection import train_test_split\\nfrom sklearn import metrics\\nfrom sklearn.preprocessing import RobustScaler\\nimport seaborn as sns\\nimport bokeh\\nimport plotly.graph_objs as go\\nfrom sklearn.linear_model import LinearRegression\\nfrom sklearn.preprocessing import MinMaxScaler\\nimport plotly.express as px\\nimport imutils\\nfrom sklearn.linear_model import RidgeCV'); }\n",
              "    "
            ],
            "text/plain": [
              "<IPython.core.display.Javascript object>"
            ]
          },
          "metadata": {
            "tags": []
          }
        },
        {
          "output_type": "display_data",
          "data": {
            "application/javascript": [
              "\n",
              "        if (window._pyforest_update_imports_cell) { window._pyforest_update_imports_cell('from xlrd import open_workbook\\nimport spacy\\nfrom scipy import stats\\nimport torch\\nimport plotly as py\\nfrom sklearn.linear_model import LassoCV\\nimport fbprophet\\nfrom sklearn.ensemble import GradientBoostingRegressor\\nfrom sklearn.model_selection import RandomizedSearchCV\\nfrom openpyxl import load_workbook\\nfrom statsmodels.tsa.arima_model import ARIMA\\nfrom sklearn.linear_model import Lasso\\nfrom sklearn.ensemble import GradientBoostingClassifier\\nimport sklearn\\nfrom sklearn.ensemble import RandomForestRegressor\\nfrom sklearn.feature_extraction.text import CountVectorizer\\nimport tqdm\\nimport textblob\\nimport matplotlib as mpl\\nfrom sklearn.linear_model import Ridge\\nfrom sklearn.model_selection import GridSearchCV\\nimport sys\\nfrom scipy import signal as sg\\nimport lightgbm as lgb\\nfrom sklearn.ensemble import RandomForestClassifier\\nimport statsmodels.api as sm\\nimport tensorflow as tf\\nimport skimage\\nimport altair as alt\\nimport xgboost as xgb\\nimport cv2\\nimport pydot\\nimport statistics\\nimport gensim\\nimport pickle\\nimport re\\nimport pandas as pd\\nimport fastai\\nfrom sklearn.model_selection import cross_val_score\\nimport glob\\nfrom sklearn.linear_model import LogisticRegression\\nfrom sklearn import svm\\nimport os\\nfrom sklearn.preprocessing import LabelEncoder\\nimport matplotlib.pyplot as plt\\nfrom sklearn.model_selection import train_test_split\\nfrom sklearn import metrics\\nfrom sklearn.preprocessing import RobustScaler\\nimport seaborn as sns\\nimport bokeh\\nimport plotly.graph_objs as go\\nfrom sklearn.linear_model import LinearRegression\\nfrom sklearn.preprocessing import MinMaxScaler\\nimport plotly.express as px\\nimport imutils\\nfrom sklearn.linear_model import RidgeCV'); }\n",
              "    "
            ],
            "text/plain": [
              "<IPython.core.display.Javascript object>"
            ]
          },
          "metadata": {
            "tags": []
          }
        },
        {
          "output_type": "stream",
          "text": [
            "Multi Linear Regression accuracy =  0.877608456648451\n"
          ],
          "name": "stdout"
        },
        {
          "output_type": "display_data",
          "data": {
            "application/javascript": [
              "\n",
              "        if (window._pyforest_update_imports_cell) { window._pyforest_update_imports_cell('from xlrd import open_workbook\\nimport spacy\\nfrom scipy import stats\\nimport torch\\nimport plotly as py\\nfrom sklearn.linear_model import LassoCV\\nimport fbprophet\\nfrom sklearn.ensemble import GradientBoostingRegressor\\nfrom sklearn.model_selection import RandomizedSearchCV\\nfrom openpyxl import load_workbook\\nfrom statsmodels.tsa.arima_model import ARIMA\\nfrom sklearn.linear_model import Lasso\\nfrom sklearn.ensemble import GradientBoostingClassifier\\nimport sklearn\\nfrom sklearn.ensemble import RandomForestRegressor\\nfrom sklearn.feature_extraction.text import CountVectorizer\\nimport tqdm\\nimport textblob\\nimport matplotlib as mpl\\nfrom sklearn.linear_model import Ridge\\nfrom sklearn.model_selection import GridSearchCV\\nimport sys\\nfrom scipy import signal as sg\\nimport lightgbm as lgb\\nfrom sklearn.ensemble import RandomForestClassifier\\nimport statsmodels.api as sm\\nimport tensorflow as tf\\nimport skimage\\nimport altair as alt\\nimport xgboost as xgb\\nimport cv2\\nimport pydot\\nimport statistics\\nimport gensim\\nimport pickle\\nimport re\\nimport pandas as pd\\nimport fastai\\nfrom sklearn.model_selection import cross_val_score\\nimport glob\\nfrom sklearn.linear_model import LogisticRegression\\nfrom sklearn import svm\\nimport os\\nfrom sklearn.preprocessing import LabelEncoder\\nimport matplotlib.pyplot as plt\\nfrom sklearn.model_selection import train_test_split\\nfrom sklearn import metrics\\nfrom sklearn.preprocessing import RobustScaler\\nimport seaborn as sns\\nimport bokeh\\nimport plotly.graph_objs as go\\nfrom sklearn.linear_model import LinearRegression\\nfrom sklearn.preprocessing import MinMaxScaler\\nimport plotly.express as px\\nimport imutils\\nfrom sklearn.linear_model import RidgeCV'); }\n",
              "    "
            ],
            "text/plain": [
              "<IPython.core.display.Javascript object>"
            ]
          },
          "metadata": {
            "tags": []
          }
        },
        {
          "output_type": "stream",
          "text": [
            "Multi Linear regression mean square error =   88.0394615825152\n"
          ],
          "name": "stdout"
        }
      ]
    },
    {
      "cell_type": "markdown",
      "metadata": {
        "id": "BXyolVgwV5Q8"
      },
      "source": [
        "**Decision Tree**"
      ]
    },
    {
      "cell_type": "code",
      "metadata": {
        "colab": {
          "base_uri": "https://localhost:8080/",
          "height": 50
        },
        "id": "sQ1G-dU8V8__",
        "outputId": "6ec7f724-e3bd-4b28-ba1d-2954d06e131d"
      },
      "source": [
        "dcr= DecisionTreeRegressor()\n",
        "dcr.fit(x_train,y_train)\n",
        "dcr_pred=model.predict(x_test)\n",
        "dcr_accuracy=metrics.r2_score(y_test,dcr_pred)\n",
        "print(\"Decision Tree Regression accuracy = \",dcr_accuracy)\n",
        "dcr_mean=metrics.mean_squared_error(y_test,dcr_pred)\n",
        "print(\"Decsion Tree regressor mean square error = \",dcr_mean)"
      ],
      "execution_count": 414,
      "outputs": [
        {
          "output_type": "display_data",
          "data": {
            "application/javascript": [
              "\n",
              "        if (window._pyforest_update_imports_cell) { window._pyforest_update_imports_cell('from xlrd import open_workbook\\nimport spacy\\nfrom scipy import stats\\nimport torch\\nimport plotly as py\\nfrom sklearn.linear_model import LassoCV\\nimport fbprophet\\nfrom sklearn.ensemble import GradientBoostingRegressor\\nfrom sklearn.model_selection import RandomizedSearchCV\\nfrom openpyxl import load_workbook\\nfrom statsmodels.tsa.arima_model import ARIMA\\nfrom sklearn.linear_model import Lasso\\nfrom sklearn.ensemble import GradientBoostingClassifier\\nimport sklearn\\nfrom sklearn.ensemble import RandomForestRegressor\\nfrom sklearn.feature_extraction.text import CountVectorizer\\nimport tqdm\\nimport textblob\\nimport matplotlib as mpl\\nfrom sklearn.linear_model import Ridge\\nfrom sklearn.model_selection import GridSearchCV\\nimport sys\\nfrom scipy import signal as sg\\nimport lightgbm as lgb\\nfrom sklearn.ensemble import RandomForestClassifier\\nimport statsmodels.api as sm\\nimport tensorflow as tf\\nimport skimage\\nimport altair as alt\\nimport xgboost as xgb\\nimport cv2\\nimport pydot\\nimport statistics\\nimport gensim\\nimport pickle\\nimport re\\nimport pandas as pd\\nimport fastai\\nfrom sklearn.model_selection import cross_val_score\\nimport glob\\nfrom sklearn.linear_model import LogisticRegression\\nfrom sklearn import svm\\nimport os\\nfrom sklearn.preprocessing import LabelEncoder\\nimport matplotlib.pyplot as plt\\nfrom sklearn.model_selection import train_test_split\\nfrom sklearn import metrics\\nfrom sklearn.preprocessing import RobustScaler\\nimport seaborn as sns\\nimport bokeh\\nimport plotly.graph_objs as go\\nfrom sklearn.linear_model import LinearRegression\\nfrom sklearn.preprocessing import MinMaxScaler\\nimport plotly.express as px\\nimport imutils\\nfrom sklearn.linear_model import RidgeCV'); }\n",
              "    "
            ],
            "text/plain": [
              "<IPython.core.display.Javascript object>"
            ]
          },
          "metadata": {
            "tags": []
          }
        },
        {
          "output_type": "stream",
          "text": [
            "Decision Tree Regression accuracy =  0.6641092873372312\n"
          ],
          "name": "stdout"
        },
        {
          "output_type": "display_data",
          "data": {
            "application/javascript": [
              "\n",
              "        if (window._pyforest_update_imports_cell) { window._pyforest_update_imports_cell('from xlrd import open_workbook\\nimport spacy\\nfrom scipy import stats\\nimport torch\\nimport plotly as py\\nfrom sklearn.linear_model import LassoCV\\nimport fbprophet\\nfrom sklearn.ensemble import GradientBoostingRegressor\\nfrom sklearn.model_selection import RandomizedSearchCV\\nfrom openpyxl import load_workbook\\nfrom statsmodels.tsa.arima_model import ARIMA\\nfrom sklearn.linear_model import Lasso\\nfrom sklearn.ensemble import GradientBoostingClassifier\\nimport sklearn\\nfrom sklearn.ensemble import RandomForestRegressor\\nfrom sklearn.feature_extraction.text import CountVectorizer\\nimport tqdm\\nimport textblob\\nimport matplotlib as mpl\\nfrom sklearn.linear_model import Ridge\\nfrom sklearn.model_selection import GridSearchCV\\nimport sys\\nfrom scipy import signal as sg\\nimport lightgbm as lgb\\nfrom sklearn.ensemble import RandomForestClassifier\\nimport statsmodels.api as sm\\nimport tensorflow as tf\\nimport skimage\\nimport altair as alt\\nimport xgboost as xgb\\nimport cv2\\nimport pydot\\nimport statistics\\nimport gensim\\nimport pickle\\nimport re\\nimport pandas as pd\\nimport fastai\\nfrom sklearn.model_selection import cross_val_score\\nimport glob\\nfrom sklearn.linear_model import LogisticRegression\\nfrom sklearn import svm\\nimport os\\nfrom sklearn.preprocessing import LabelEncoder\\nimport matplotlib.pyplot as plt\\nfrom sklearn.model_selection import train_test_split\\nfrom sklearn import metrics\\nfrom sklearn.preprocessing import RobustScaler\\nimport seaborn as sns\\nimport bokeh\\nimport plotly.graph_objs as go\\nfrom sklearn.linear_model import LinearRegression\\nfrom sklearn.preprocessing import MinMaxScaler\\nimport plotly.express as px\\nimport imutils\\nfrom sklearn.linear_model import RidgeCV'); }\n",
              "    "
            ],
            "text/plain": [
              "<IPython.core.display.Javascript object>"
            ]
          },
          "metadata": {
            "tags": []
          }
        },
        {
          "output_type": "stream",
          "text": [
            "Decsion Tree regressor mean square error =  88.0394615825152\n"
          ],
          "name": "stdout"
        }
      ]
    },
    {
      "cell_type": "markdown",
      "metadata": {
        "id": "yRxNxYjyR7uK"
      },
      "source": [
        "**Random Forest**"
      ]
    },
    {
      "cell_type": "code",
      "metadata": {
        "colab": {
          "base_uri": "https://localhost:8080/",
          "height": 50
        },
        "id": "GVRog1U0Rx4m",
        "outputId": "a25d95f4-d33f-47f4-ae7b-2663a6697ba4"
      },
      "source": [
        "model=RandomForestRegressor()\n",
        "model.fit(x_train,y_train)\n",
        "R_pred = model.predict(x_test)\n",
        "accuracy = metrics.r2_score(y_test,R_pred)\n",
        "print(\"Random Forest Accuracy = \",accuracy)\n",
        "r_Mean=metrics.mean_squared_error(y_test,R_pred)\n",
        "print(\"Random Forest mean squrare error = \",r_Mean)"
      ],
      "execution_count": 415,
      "outputs": [
        {
          "output_type": "display_data",
          "data": {
            "application/javascript": [
              "\n",
              "        if (window._pyforest_update_imports_cell) { window._pyforest_update_imports_cell('from xlrd import open_workbook\\nimport spacy\\nfrom scipy import stats\\nimport torch\\nimport plotly as py\\nfrom sklearn.linear_model import LassoCV\\nimport fbprophet\\nfrom sklearn.ensemble import GradientBoostingRegressor\\nfrom sklearn.model_selection import RandomizedSearchCV\\nfrom openpyxl import load_workbook\\nfrom statsmodels.tsa.arima_model import ARIMA\\nfrom sklearn.linear_model import Lasso\\nfrom sklearn.ensemble import GradientBoostingClassifier\\nimport sklearn\\nfrom sklearn.ensemble import RandomForestRegressor\\nfrom sklearn.feature_extraction.text import CountVectorizer\\nimport tqdm\\nimport textblob\\nimport matplotlib as mpl\\nfrom sklearn.linear_model import Ridge\\nfrom sklearn.model_selection import GridSearchCV\\nimport sys\\nfrom scipy import signal as sg\\nimport lightgbm as lgb\\nfrom sklearn.ensemble import RandomForestClassifier\\nimport statsmodels.api as sm\\nimport tensorflow as tf\\nimport skimage\\nimport altair as alt\\nimport xgboost as xgb\\nimport cv2\\nimport pydot\\nimport statistics\\nimport gensim\\nimport pickle\\nimport re\\nimport pandas as pd\\nimport fastai\\nfrom sklearn.model_selection import cross_val_score\\nimport glob\\nfrom sklearn.linear_model import LogisticRegression\\nfrom sklearn import svm\\nimport os\\nfrom sklearn.preprocessing import LabelEncoder\\nimport matplotlib.pyplot as plt\\nfrom sklearn.model_selection import train_test_split\\nfrom sklearn import metrics\\nfrom sklearn.preprocessing import RobustScaler\\nimport seaborn as sns\\nimport bokeh\\nimport plotly.graph_objs as go\\nfrom sklearn.linear_model import LinearRegression\\nfrom sklearn.preprocessing import MinMaxScaler\\nimport plotly.express as px\\nimport imutils\\nfrom sklearn.linear_model import RidgeCV'); }\n",
              "    "
            ],
            "text/plain": [
              "<IPython.core.display.Javascript object>"
            ]
          },
          "metadata": {
            "tags": []
          }
        },
        {
          "output_type": "display_data",
          "data": {
            "application/javascript": [
              "\n",
              "        if (window._pyforest_update_imports_cell) { window._pyforest_update_imports_cell('from xlrd import open_workbook\\nimport spacy\\nfrom scipy import stats\\nimport torch\\nimport plotly as py\\nfrom sklearn.linear_model import LassoCV\\nimport fbprophet\\nfrom sklearn.ensemble import GradientBoostingRegressor\\nfrom sklearn.model_selection import RandomizedSearchCV\\nfrom openpyxl import load_workbook\\nfrom statsmodels.tsa.arima_model import ARIMA\\nfrom sklearn.linear_model import Lasso\\nfrom sklearn.ensemble import GradientBoostingClassifier\\nimport sklearn\\nfrom sklearn.ensemble import RandomForestRegressor\\nfrom sklearn.feature_extraction.text import CountVectorizer\\nimport tqdm\\nimport textblob\\nimport matplotlib as mpl\\nfrom sklearn.linear_model import Ridge\\nfrom sklearn.model_selection import GridSearchCV\\nimport sys\\nfrom scipy import signal as sg\\nimport lightgbm as lgb\\nfrom sklearn.ensemble import RandomForestClassifier\\nimport statsmodels.api as sm\\nimport tensorflow as tf\\nimport skimage\\nimport altair as alt\\nimport xgboost as xgb\\nimport cv2\\nimport pydot\\nimport statistics\\nimport gensim\\nimport pickle\\nimport re\\nimport pandas as pd\\nimport fastai\\nfrom sklearn.model_selection import cross_val_score\\nimport glob\\nfrom sklearn.linear_model import LogisticRegression\\nfrom sklearn import svm\\nimport os\\nfrom sklearn.preprocessing import LabelEncoder\\nimport matplotlib.pyplot as plt\\nfrom sklearn.model_selection import train_test_split\\nfrom sklearn import metrics\\nfrom sklearn.preprocessing import RobustScaler\\nimport seaborn as sns\\nimport bokeh\\nimport plotly.graph_objs as go\\nfrom sklearn.linear_model import LinearRegression\\nfrom sklearn.preprocessing import MinMaxScaler\\nimport plotly.express as px\\nimport imutils\\nfrom sklearn.linear_model import RidgeCV'); }\n",
              "    "
            ],
            "text/plain": [
              "<IPython.core.display.Javascript object>"
            ]
          },
          "metadata": {
            "tags": []
          }
        },
        {
          "output_type": "stream",
          "text": [
            "Random Forest Accuracy =  0.8765582624091046\n"
          ],
          "name": "stdout"
        },
        {
          "output_type": "display_data",
          "data": {
            "application/javascript": [
              "\n",
              "        if (window._pyforest_update_imports_cell) { window._pyforest_update_imports_cell('from xlrd import open_workbook\\nimport spacy\\nfrom scipy import stats\\nimport torch\\nimport plotly as py\\nfrom sklearn.linear_model import LassoCV\\nimport fbprophet\\nfrom sklearn.ensemble import GradientBoostingRegressor\\nfrom sklearn.model_selection import RandomizedSearchCV\\nfrom openpyxl import load_workbook\\nfrom statsmodels.tsa.arima_model import ARIMA\\nfrom sklearn.linear_model import Lasso\\nfrom sklearn.ensemble import GradientBoostingClassifier\\nimport sklearn\\nfrom sklearn.ensemble import RandomForestRegressor\\nfrom sklearn.feature_extraction.text import CountVectorizer\\nimport tqdm\\nimport textblob\\nimport matplotlib as mpl\\nfrom sklearn.linear_model import Ridge\\nfrom sklearn.model_selection import GridSearchCV\\nimport sys\\nfrom scipy import signal as sg\\nimport lightgbm as lgb\\nfrom sklearn.ensemble import RandomForestClassifier\\nimport statsmodels.api as sm\\nimport tensorflow as tf\\nimport skimage\\nimport altair as alt\\nimport xgboost as xgb\\nimport cv2\\nimport pydot\\nimport statistics\\nimport gensim\\nimport pickle\\nimport re\\nimport pandas as pd\\nimport fastai\\nfrom sklearn.model_selection import cross_val_score\\nimport glob\\nfrom sklearn.linear_model import LogisticRegression\\nfrom sklearn import svm\\nimport os\\nfrom sklearn.preprocessing import LabelEncoder\\nimport matplotlib.pyplot as plt\\nfrom sklearn.model_selection import train_test_split\\nfrom sklearn import metrics\\nfrom sklearn.preprocessing import RobustScaler\\nimport seaborn as sns\\nimport bokeh\\nimport plotly.graph_objs as go\\nfrom sklearn.linear_model import LinearRegression\\nfrom sklearn.preprocessing import MinMaxScaler\\nimport plotly.express as px\\nimport imutils\\nfrom sklearn.linear_model import RidgeCV'); }\n",
              "    "
            ],
            "text/plain": [
              "<IPython.core.display.Javascript object>"
            ]
          },
          "metadata": {
            "tags": []
          }
        },
        {
          "output_type": "stream",
          "text": [
            "Random Forest mean squrare error =  32.35500031590237\n"
          ],
          "name": "stdout"
        }
      ]
    },
    {
      "cell_type": "markdown",
      "metadata": {
        "id": "Xo-buZgIiLCQ"
      },
      "source": [
        "**Gradient Boost Regressor**"
      ]
    },
    {
      "cell_type": "code",
      "metadata": {
        "colab": {
          "base_uri": "https://localhost:8080/",
          "height": 50
        },
        "id": "sjy0THBESSad",
        "outputId": "0837083d-d5f5-4e36-8363-2a6a21f9d504"
      },
      "source": [
        "GBR_model=GradientBoostingRegressor()\n",
        "GBR_model.fit(x_train,y_train)\n",
        "GB_pred=GBR_model.predict(x_test)\n",
        "GBR_model.score(x_train,y_train)\n",
        "GBR_model.score(x_test,y_test)\n",
        "accuracy=metrics.r2_score(y_test,GB_pred)\n",
        "print(\"Gradient Boost Regressor Accuracy = \",accuracy)\n",
        "GB_meansquareerror=metrics.mean_squared_error(y_test,GB_pred)\n",
        "print(\"GB Mean square error = \",GB_meansquareerror)"
      ],
      "execution_count": 416,
      "outputs": [
        {
          "output_type": "display_data",
          "data": {
            "application/javascript": [
              "\n",
              "        if (window._pyforest_update_imports_cell) { window._pyforest_update_imports_cell('from xlrd import open_workbook\\nimport spacy\\nfrom scipy import stats\\nimport torch\\nimport plotly as py\\nfrom sklearn.linear_model import LassoCV\\nimport fbprophet\\nfrom sklearn.ensemble import GradientBoostingRegressor\\nfrom sklearn.model_selection import RandomizedSearchCV\\nfrom openpyxl import load_workbook\\nfrom statsmodels.tsa.arima_model import ARIMA\\nfrom sklearn.linear_model import Lasso\\nfrom sklearn.ensemble import GradientBoostingClassifier\\nimport sklearn\\nfrom sklearn.ensemble import RandomForestRegressor\\nfrom sklearn.feature_extraction.text import CountVectorizer\\nimport tqdm\\nimport textblob\\nimport matplotlib as mpl\\nfrom sklearn.linear_model import Ridge\\nfrom sklearn.model_selection import GridSearchCV\\nimport sys\\nfrom scipy import signal as sg\\nimport lightgbm as lgb\\nfrom sklearn.ensemble import RandomForestClassifier\\nimport statsmodels.api as sm\\nimport tensorflow as tf\\nimport skimage\\nimport altair as alt\\nimport xgboost as xgb\\nimport cv2\\nimport pydot\\nimport statistics\\nimport gensim\\nimport pickle\\nimport re\\nimport pandas as pd\\nimport fastai\\nfrom sklearn.model_selection import cross_val_score\\nimport glob\\nfrom sklearn.linear_model import LogisticRegression\\nfrom sklearn import svm\\nimport os\\nfrom sklearn.preprocessing import LabelEncoder\\nimport matplotlib.pyplot as plt\\nfrom sklearn.model_selection import train_test_split\\nfrom sklearn import metrics\\nfrom sklearn.preprocessing import RobustScaler\\nimport seaborn as sns\\nimport bokeh\\nimport plotly.graph_objs as go\\nfrom sklearn.linear_model import LinearRegression\\nfrom sklearn.preprocessing import MinMaxScaler\\nimport plotly.express as px\\nimport imutils\\nfrom sklearn.linear_model import RidgeCV'); }\n",
              "    "
            ],
            "text/plain": [
              "<IPython.core.display.Javascript object>"
            ]
          },
          "metadata": {
            "tags": []
          }
        },
        {
          "output_type": "display_data",
          "data": {
            "application/javascript": [
              "\n",
              "        if (window._pyforest_update_imports_cell) { window._pyforest_update_imports_cell('from xlrd import open_workbook\\nimport spacy\\nfrom scipy import stats\\nimport torch\\nimport plotly as py\\nfrom sklearn.linear_model import LassoCV\\nimport fbprophet\\nfrom sklearn.ensemble import GradientBoostingRegressor\\nfrom sklearn.model_selection import RandomizedSearchCV\\nfrom openpyxl import load_workbook\\nfrom statsmodels.tsa.arima_model import ARIMA\\nfrom sklearn.linear_model import Lasso\\nfrom sklearn.ensemble import GradientBoostingClassifier\\nimport sklearn\\nfrom sklearn.ensemble import RandomForestRegressor\\nfrom sklearn.feature_extraction.text import CountVectorizer\\nimport tqdm\\nimport textblob\\nimport matplotlib as mpl\\nfrom sklearn.linear_model import Ridge\\nfrom sklearn.model_selection import GridSearchCV\\nimport sys\\nfrom scipy import signal as sg\\nimport lightgbm as lgb\\nfrom sklearn.ensemble import RandomForestClassifier\\nimport statsmodels.api as sm\\nimport tensorflow as tf\\nimport skimage\\nimport altair as alt\\nimport xgboost as xgb\\nimport cv2\\nimport pydot\\nimport statistics\\nimport gensim\\nimport pickle\\nimport re\\nimport pandas as pd\\nimport fastai\\nfrom sklearn.model_selection import cross_val_score\\nimport glob\\nfrom sklearn.linear_model import LogisticRegression\\nfrom sklearn import svm\\nimport os\\nfrom sklearn.preprocessing import LabelEncoder\\nimport matplotlib.pyplot as plt\\nfrom sklearn.model_selection import train_test_split\\nfrom sklearn import metrics\\nfrom sklearn.preprocessing import RobustScaler\\nimport seaborn as sns\\nimport bokeh\\nimport plotly.graph_objs as go\\nfrom sklearn.linear_model import LinearRegression\\nfrom sklearn.preprocessing import MinMaxScaler\\nimport plotly.express as px\\nimport imutils\\nfrom sklearn.linear_model import RidgeCV'); }\n",
              "    "
            ],
            "text/plain": [
              "<IPython.core.display.Javascript object>"
            ]
          },
          "metadata": {
            "tags": []
          }
        },
        {
          "output_type": "stream",
          "text": [
            "Gradient Boost Regressor Accuracy =  0.8823816703961012\n"
          ],
          "name": "stdout"
        },
        {
          "output_type": "display_data",
          "data": {
            "application/javascript": [
              "\n",
              "        if (window._pyforest_update_imports_cell) { window._pyforest_update_imports_cell('from xlrd import open_workbook\\nimport spacy\\nfrom scipy import stats\\nimport torch\\nimport plotly as py\\nfrom sklearn.linear_model import LassoCV\\nimport fbprophet\\nfrom sklearn.ensemble import GradientBoostingRegressor\\nfrom sklearn.model_selection import RandomizedSearchCV\\nfrom openpyxl import load_workbook\\nfrom statsmodels.tsa.arima_model import ARIMA\\nfrom sklearn.linear_model import Lasso\\nfrom sklearn.ensemble import GradientBoostingClassifier\\nimport sklearn\\nfrom sklearn.ensemble import RandomForestRegressor\\nfrom sklearn.feature_extraction.text import CountVectorizer\\nimport tqdm\\nimport textblob\\nimport matplotlib as mpl\\nfrom sklearn.linear_model import Ridge\\nfrom sklearn.model_selection import GridSearchCV\\nimport sys\\nfrom scipy import signal as sg\\nimport lightgbm as lgb\\nfrom sklearn.ensemble import RandomForestClassifier\\nimport statsmodels.api as sm\\nimport tensorflow as tf\\nimport skimage\\nimport altair as alt\\nimport xgboost as xgb\\nimport cv2\\nimport pydot\\nimport statistics\\nimport gensim\\nimport pickle\\nimport re\\nimport pandas as pd\\nimport fastai\\nfrom sklearn.model_selection import cross_val_score\\nimport glob\\nfrom sklearn.linear_model import LogisticRegression\\nfrom sklearn import svm\\nimport os\\nfrom sklearn.preprocessing import LabelEncoder\\nimport matplotlib.pyplot as plt\\nfrom sklearn.model_selection import train_test_split\\nfrom sklearn import metrics\\nfrom sklearn.preprocessing import RobustScaler\\nimport seaborn as sns\\nimport bokeh\\nimport plotly.graph_objs as go\\nfrom sklearn.linear_model import LinearRegression\\nfrom sklearn.preprocessing import MinMaxScaler\\nimport plotly.express as px\\nimport imutils\\nfrom sklearn.linear_model import RidgeCV'); }\n",
              "    "
            ],
            "text/plain": [
              "<IPython.core.display.Javascript object>"
            ]
          },
          "metadata": {
            "tags": []
          }
        },
        {
          "output_type": "stream",
          "text": [
            "GB Mean square error =  30.828641639039436\n"
          ],
          "name": "stdout"
        }
      ]
    },
    {
      "cell_type": "markdown",
      "metadata": {
        "id": "lR09_Llsp_7q"
      },
      "source": [
        "*So far as we observed , Gradient Boost have better accuracy and less mean square error *"
      ]
    },
    {
      "cell_type": "code",
      "metadata": {
        "id": "xdjVkGOjS9Cj"
      },
      "source": [
        ""
      ],
      "execution_count": 416,
      "outputs": []
    },
    {
      "cell_type": "code",
      "metadata": {
        "id": "kPbhexHfTb3d"
      },
      "source": [
        ""
      ],
      "execution_count": 416,
      "outputs": []
    }
  ]
}